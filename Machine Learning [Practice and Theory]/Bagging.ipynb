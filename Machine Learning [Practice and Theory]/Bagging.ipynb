{
 "cells": [
  {
   "cell_type": "markdown",
   "metadata": {
    "id": "gmiRB1KbDf_C"
   },
   "source": [
    "# Bagging"
   ]
  },
  {
   "cell_type": "markdown",
   "metadata": {
    "id": "ehGQ0pO_Df_a"
   },
   "source": [
    "# what is bagging\n",
    "* Bagging, also known as bootstrap aggregation, is the ensemble learning method that is commonly used to reduce variance within a noisy dataset. In bagging, a random sample of data in a training set is selected with replacement—meaning that the individual data points can be chosen more than once\n",
    "\n",
    "\n",
    "* Bagging is used when the goal is to reduce the variance of a decision tree classifier. Here the objective is to create several subsets of data from training sample chosen randomly with replacement. Each collection of subset data is used to train\n",
    "\n",
    "![](bag.png)\n",
    "\n",
    "\n",
    "**Output side called as  Aggregation**\n",
    "\n",
    "**For regression task it will take average**\n",
    "\n",
    "\n",
    "\n",
    "**For classification it will count the output** \n",
    "\n",
    "## How bagging works\n",
    "\n",
    "#### Bootstrapping:\n",
    "*  Bagging leverages a bootstrapping sampling technique to create diverse samples. This resampling method generates different subsets of the training dataset by selecting data points at random and with replacement. This means that each time you select a data point from the training dataset, you are able to select the same instance multiple times. As a result, a value/instance repeated twice (or more) in a sample.\n",
    "\n",
    "#### Parallel training:\n",
    "* These bootstrap samples are then trained independently and in parallel with each other using weak or base learners.\n",
    "\n",
    "#### Aggregation:\n",
    "* Finally, depending on the task (i.e. regression or classification), an average or a majority of the predictions are taken to compute a more accurate estimate. In the case of regression, an average is taken of all the outputs predicted by the individual classifiers; this is known as soft voting. For classification problems, the class with the highest majority of votes is accepted; this is known as hard voting or majority voting.\n",
    "\n",
    "## Benefits :\n",
    "\n",
    "#### Ease of implementation: \n",
    "* Python libraries such as scikit-learn (also known as sklearn) make it easy to combine the predictions of base learners or estimators to improve model performance.\n",
    "\n",
    "#### Reduction of variance:\n",
    "* Bagging can reduce the variance within a learning algorithm. This is particularly helpful with high-dimensional data, where missing values can lead to higher variance, making it more prone to overfitting and preventing accurate generalization to new datasets.\n",
    "\n",
    "\n",
    "## challenges of bagging:\n",
    "\n",
    "\n",
    "#### Computationally expensive:\n",
    "* Bagging slows down and grows more intensive as the number of iterations increase. Clustered systems or a large number of processing cores are ideal for quickly creating bagged ensembles on large test sets.\n",
    "\n"
   ]
  },
  {
   "cell_type": "markdown",
   "metadata": {
    "id": "akZcYZjZBOWv"
   },
   "source": [
    "## First we will see Using single model"
   ]
  },
  {
   "cell_type": "markdown",
   "metadata": {
    "id": "NMVo4-JaBOWw"
   },
   "source": [
    "## Business case: Predicting  quality of wine with given feature."
   ]
  },
  {
   "cell_type": "code",
   "execution_count": 1,
   "metadata": {
    "id": "I5QjhJQhBOWx"
   },
   "outputs": [],
   "source": [
    "#importing package and loading data\n",
    "import pandas as pd\n",
    "import numpy as np\n",
    "data=pd.read_csv('wine.csv')"
   ]
  },
  {
   "cell_type": "markdown",
   "metadata": {},
   "source": [
    "### Domain Analysis\n",
    "#### Checking Impact Of All Parameter To Wine\n",
    "* Alcohol:-Alcohol content affects aroma and taste in critical ways, and the sugar content of the grapes determines alcohol content.\n",
    "\n",
    "* Malic acid:-Malic acid is very important in wine. If there is not enough, the wine will taste “flat,” and will be more susceptible to spoilage. If there is too much, the wine will taste “green,” or “sour.” \n",
    "\n",
    "* Ash:-Ash content is one of the important indicators in wine quality determination. The conventional gravimetric method for ash quantity determination is time consuming. As conductivity is primarily dependent on mineral content, its value (from 7276 to 3460 μS/cm)\n",
    "\n",
    "* Alcalinity of ash:-Alkalinity of ash measures the basicity (alkalinity) of the ash obtained from a sample. This is accomplished by adding acid to the ash until the solution is neutralized.\n",
    "\n",
    "* Magnesium:-magnesium is a stress-protectant factor in the case of wine, brewing and distilling yeasts and can help to prevent cell death caused by temperature shock and ethanol toxicity.\n",
    "\n",
    "* Total phenols:-Phenols do not only affect taste. They also give red wine color, and act as a preservative during the aging process. Most phenols exist in the form of tannins. These molecules help to preserve wine by their ability to absorb oxygen.\n",
    "\n",
    "* Flavanoids:-Flavanoids are the major phenolic group in red wine, and have a profound impact on wine taste. The major flavanoids in wine are flavanols, anthocyanins and catechins. They can exist in multiple forms; by themselves or polymerized with sugars, other flavanoids and or nonflavanoids.\n",
    "\n",
    "* Nonflavanoid phenols:-Nonflavanoids are the primary contributor to the color white wine. Compared to color in red wine, the chemical nature of color in white wine is not very well understood. The majority of the phenols in white wine are nonflavanoid hydroxycinamates. These include caftaric acid, coumaric acid and ferulic acid.\n",
    "\n",
    "* Proanthocyanins:- Pyranoanthocyanins are not subject to bleaching and range in color from red-orange to yellow to blue. While wine contains relatively low concentrations of these compounds, they are believed to be important contributors to the color of aged wine.\n",
    "\n",
    "* Color intensity:- The pigment in red wine is sensitive to both temperature and sulfites. Wines that are fermented at high temperatures or have higher sulfur additions will have less color intensity.\n",
    "\n",
    "* Hue:-The hue in red wine is partially affected by the pH level of the wine. There are many variables that will affect the color (such as co-pigmentation, sulfur additions, etc.) but the following is generally true: Wines with a strong red hue have a lower pH (high acidity). Wines with a strong violet hue range from around 3.4–3.6 pH (on average).\n",
    "\n",
    "* OD280/OD315 of diluted wines:-The higher absorbance ratio of OD280/OD315 indicates high protein purity. Therefore the first common factor can be named the bitter trophic factor of wine. The second common factor has a large load on the variables of alcohol, color intensity and proline.\n",
    "\n",
    "* Proline:-Proline is typically the most abundant amino acid present in grape juice and wine. The amount present is influenced by viticultural and winemaking factors and can be of diagnostic importance.\n",
    "\n"
   ]
  },
  {
   "cell_type": "markdown",
   "metadata": {
    "id": "G097JRZpDf_4"
   },
   "source": [
    "# Basic check"
   ]
  },
  {
   "cell_type": "code",
   "execution_count": 2,
   "metadata": {
    "colab": {
     "base_uri": "https://localhost:8080/",
     "height": 212
    },
    "executionInfo": {
     "elapsed": 1330,
     "status": "ok",
     "timestamp": 1617861202669,
     "user": {
      "displayName": "Thejus G",
      "photoUrl": "",
      "userId": "13903418510874538491"
     },
     "user_tz": -330
    },
    "id": "tzPDCnBNBOWy",
    "outputId": "79821488-1f73-4597-f499-1a96c2ab5765",
    "scrolled": true
   },
   "outputs": [
    {
     "data": {
      "text/html": [
       "<div>\n",
       "<style scoped>\n",
       "    .dataframe tbody tr th:only-of-type {\n",
       "        vertical-align: middle;\n",
       "    }\n",
       "\n",
       "    .dataframe tbody tr th {\n",
       "        vertical-align: top;\n",
       "    }\n",
       "\n",
       "    .dataframe thead th {\n",
       "        text-align: right;\n",
       "    }\n",
       "</style>\n",
       "<table border=\"1\" class=\"dataframe\">\n",
       "  <thead>\n",
       "    <tr style=\"text-align: right;\">\n",
       "      <th></th>\n",
       "      <th>wine</th>\n",
       "      <th>Alcohol</th>\n",
       "      <th>Malic acid</th>\n",
       "      <th>Ash</th>\n",
       "      <th>Alcalinity of ash</th>\n",
       "      <th>Magnesium</th>\n",
       "      <th>Total phenols</th>\n",
       "      <th>Flavanoids</th>\n",
       "      <th>Nonflavanoid phenols</th>\n",
       "      <th>Proanthocyanins</th>\n",
       "      <th>Color intensity</th>\n",
       "      <th>Hue</th>\n",
       "      <th>OD280/OD315 of diluted wines</th>\n",
       "      <th>Proline</th>\n",
       "    </tr>\n",
       "  </thead>\n",
       "  <tbody>\n",
       "    <tr>\n",
       "      <th>0</th>\n",
       "      <td>1</td>\n",
       "      <td>14.23</td>\n",
       "      <td>1.71</td>\n",
       "      <td>2.43</td>\n",
       "      <td>15.6</td>\n",
       "      <td>127</td>\n",
       "      <td>2.80</td>\n",
       "      <td>3.06</td>\n",
       "      <td>0.28</td>\n",
       "      <td>2.29</td>\n",
       "      <td>5.64</td>\n",
       "      <td>1.04</td>\n",
       "      <td>3.92</td>\n",
       "      <td>1065</td>\n",
       "    </tr>\n",
       "    <tr>\n",
       "      <th>1</th>\n",
       "      <td>1</td>\n",
       "      <td>13.20</td>\n",
       "      <td>1.78</td>\n",
       "      <td>2.14</td>\n",
       "      <td>11.2</td>\n",
       "      <td>100</td>\n",
       "      <td>2.65</td>\n",
       "      <td>2.76</td>\n",
       "      <td>0.26</td>\n",
       "      <td>1.28</td>\n",
       "      <td>4.38</td>\n",
       "      <td>1.05</td>\n",
       "      <td>3.40</td>\n",
       "      <td>1050</td>\n",
       "    </tr>\n",
       "    <tr>\n",
       "      <th>2</th>\n",
       "      <td>1</td>\n",
       "      <td>13.16</td>\n",
       "      <td>2.36</td>\n",
       "      <td>2.67</td>\n",
       "      <td>18.6</td>\n",
       "      <td>101</td>\n",
       "      <td>2.80</td>\n",
       "      <td>3.24</td>\n",
       "      <td>0.30</td>\n",
       "      <td>2.81</td>\n",
       "      <td>5.68</td>\n",
       "      <td>1.03</td>\n",
       "      <td>3.17</td>\n",
       "      <td>1185</td>\n",
       "    </tr>\n",
       "    <tr>\n",
       "      <th>3</th>\n",
       "      <td>1</td>\n",
       "      <td>14.37</td>\n",
       "      <td>1.95</td>\n",
       "      <td>2.50</td>\n",
       "      <td>16.8</td>\n",
       "      <td>113</td>\n",
       "      <td>3.85</td>\n",
       "      <td>3.49</td>\n",
       "      <td>0.24</td>\n",
       "      <td>2.18</td>\n",
       "      <td>7.80</td>\n",
       "      <td>0.86</td>\n",
       "      <td>3.45</td>\n",
       "      <td>1480</td>\n",
       "    </tr>\n",
       "    <tr>\n",
       "      <th>4</th>\n",
       "      <td>1</td>\n",
       "      <td>13.24</td>\n",
       "      <td>2.59</td>\n",
       "      <td>2.87</td>\n",
       "      <td>21.0</td>\n",
       "      <td>118</td>\n",
       "      <td>2.80</td>\n",
       "      <td>2.69</td>\n",
       "      <td>0.39</td>\n",
       "      <td>1.82</td>\n",
       "      <td>4.32</td>\n",
       "      <td>1.04</td>\n",
       "      <td>2.93</td>\n",
       "      <td>735</td>\n",
       "    </tr>\n",
       "  </tbody>\n",
       "</table>\n",
       "</div>"
      ],
      "text/plain": [
       "   wine  Alcohol  Malic acid   Ash  Alcalinity of ash  Magnesium  \\\n",
       "0     1    14.23        1.71  2.43               15.6        127   \n",
       "1     1    13.20        1.78  2.14               11.2        100   \n",
       "2     1    13.16        2.36  2.67               18.6        101   \n",
       "3     1    14.37        1.95  2.50               16.8        113   \n",
       "4     1    13.24        2.59  2.87               21.0        118   \n",
       "\n",
       "   Total phenols  Flavanoids  Nonflavanoid phenols  Proanthocyanins  \\\n",
       "0           2.80        3.06                  0.28             2.29   \n",
       "1           2.65        2.76                  0.26             1.28   \n",
       "2           2.80        3.24                  0.30             2.81   \n",
       "3           3.85        3.49                  0.24             2.18   \n",
       "4           2.80        2.69                  0.39             1.82   \n",
       "\n",
       "   Color intensity   Hue  OD280/OD315 of diluted wines  Proline  \n",
       "0             5.64  1.04                          3.92     1065  \n",
       "1             4.38  1.05                          3.40     1050  \n",
       "2             5.68  1.03                          3.17     1185  \n",
       "3             7.80  0.86                          3.45     1480  \n",
       "4             4.32  1.04                          2.93      735  "
      ]
     },
     "execution_count": 2,
     "metadata": {},
     "output_type": "execute_result"
    }
   ],
   "source": [
    "data.head()#first five rows"
   ]
  },
  {
   "cell_type": "code",
   "execution_count": null,
   "metadata": {},
   "outputs": [],
   "source": [
    "data.wine.value_counts()"
   ]
  },
  {
   "cell_type": "code",
   "execution_count": null,
   "metadata": {
    "id": "G2lHsfmaDgAI"
   },
   "outputs": [],
   "source": [
    "data.tail()#last 5 rows"
   ]
  },
  {
   "cell_type": "code",
   "execution_count": null,
   "metadata": {
    "id": "-TWQ8DcSDgAU"
   },
   "outputs": [],
   "source": [
    "data.info()# to know datatype and null count"
   ]
  },
  {
   "cell_type": "code",
   "execution_count": null,
   "metadata": {
    "id": "Z41-r_B5DgAY"
   },
   "outputs": [],
   "source": [
    "data.describe()#used to view some basic statistical details like percentile, mean, std etc. "
   ]
  },
  {
   "cell_type": "code",
   "execution_count": null,
   "metadata": {
    "id": "NOLTqtbWDgAh"
   },
   "outputs": [],
   "source": [
    "#data.describe(include='O')#It will give you info about categorical data/columns"
   ]
  },
  {
   "cell_type": "code",
   "execution_count": null,
   "metadata": {
    "colab": {
     "base_uri": "https://localhost:8080/",
     "height": 172
    },
    "executionInfo": {
     "elapsed": 571,
     "status": "error",
     "timestamp": 1626367995752,
     "user": {
      "displayName": "yasmeen khan",
      "photoUrl": "https://lh3.googleusercontent.com/a-/AOh14GgCi4jhjE_cHqfsT8ooLGhQbbS7tY_36KSSRU1s=s64",
      "userId": "10228557724932646508"
     },
     "user_tz": -330
    },
    "id": "WhBmn7ihFVn5",
    "outputId": "cc4f6737-d598-4c19-efa5-76db47ed822c"
   },
   "outputs": [],
   "source": [
    "data.shape#rows and columns"
   ]
  },
  {
   "cell_type": "code",
   "execution_count": null,
   "metadata": {},
   "outputs": [],
   "source": [
    "data.wine.value_counts()"
   ]
  },
  {
   "cell_type": "markdown",
   "metadata": {
    "id": "PTnfLziSDgAn"
   },
   "source": [
    "# EDA"
   ]
  },
  {
   "cell_type": "markdown",
   "metadata": {
    "id": "opVizVPiDgAq"
   },
   "source": [
    "### Renaming the columns"
   ]
  },
  {
   "cell_type": "code",
   "execution_count": 3,
   "metadata": {
    "id": "-tDGVA-hDgAz"
   },
   "outputs": [],
   "source": [
    "data.rename(columns={'Wine':'wine','Alcohol':'alcohol','Alcalinity of ash':'AOA','Total phenols':'total_phe',\n",
    "                     'Nonflavanoid phenols':'NOP','Color intensity':'color_intensity','Hue':'hu',\n",
    "                     'OD280/OD315 of diluted wines':'DW','Malic acid':'M_acid'},inplace=True)\n",
    "#renaming all columns"
   ]
  },
  {
   "cell_type": "code",
   "execution_count": 4,
   "metadata": {
    "id": "IyQScf_MDgCQ"
   },
   "outputs": [],
   "source": [
    "#importing package\n",
    "import matplotlib.pyplot as plt\n",
    "import seaborn as sns\n",
    "%matplotlib inline"
   ]
  },
  {
   "cell_type": "code",
   "execution_count": 5,
   "metadata": {
    "id": "ruutFq2nDgCT"
   },
   "outputs": [],
   "source": [
    "#creation of data frame which continuous variable\n",
    "box=data[['alcohol','M_acid','Ash','AOA','Magnesium','total_phe','Flavanoids','NOP','Proanthocyanins','color_intensity','hu','DW','Proline']]"
   ]
  },
  {
   "cell_type": "markdown",
   "metadata": {
    "id": "ZNjU30xNDgCX"
   },
   "source": [
    "## Univariate Analysis"
   ]
  },
  {
   "cell_type": "code",
   "execution_count": null,
   "metadata": {
    "id": "ld5qau5YDgCg",
    "outputId": "ed6cfb2b-b826-4684-f191-bb591d33ecfe"
   },
   "outputs": [],
   "source": [
    "plt.figure(figsize=(25,25),facecolor='white')#canvas size\n",
    "plotnum=1#counter\n",
    "for c in box:#columns form dataFrame\n",
    "    if(plotnum<9):#checking whether counter less than 9\n",
    "        a=plt.subplot(4,2,plotnum)#plotting 8 graph\n",
    "        sns.histplot(box[c])#to know distribution\n",
    "    plotnum+=1#increment counter\n",
    "plt.tight_layout()    "
   ]
  },
  {
   "cell_type": "markdown",
   "metadata": {},
   "source": [
    "## Uni-variate Analysis Observation:\n",
    "\n",
    "### Alcohol : \n",
    "* The range of alcohol content in wine between 11.0 to 14.7\n",
    "* Most count of alcohol content in wine between 12 to 14\n",
    "\n",
    "### Malic acid:\n",
    "* 1.5 is most count of malic acid (total 60).\n",
    "* The range of malic acid between 1 to 5.5\n",
    "\n",
    "### Ash:\n",
    "* Most count of ash content in wine 2.25 to 2.75\n",
    "* The range of ash content in wine between 1 to 3.25\n",
    "\n",
    "### Alcalinity of Ash:\n",
    "* Higher count of Alcalinity of ash between 17.5 to 20.0\n",
    "* The Maximum Alcanity of ash is 30.0 & minimum alcalinity of ash is 10.5\n",
    "\n",
    "### Magnesium:\n",
    "* Maximum no of magnesium in wine is 90\n",
    "* The range of magnesium between 70 to 160\n",
    "\n",
    "### Total phenols:\n",
    "* Maximum phenols is 3.8 & Minimum phenols is 1.0\n",
    "* 2.7 is most phenols count\n",
    "\n",
    "### Flavanoids:\n",
    "* The flavanoids in wine range between 0.5 to 3\n",
    "* The highest flavanoids in wine is 5.0\n",
    "\n",
    "### Nonflavanoid phenols:\n",
    "* 0.3 is Highest count in nonflavanoid phenols \n",
    "* The range of nonflavanoid phenols is 0.1 to 0.7"
   ]
  },
  {
   "cell_type": "markdown",
   "metadata": {
    "id": "udyRzB4BDgCh"
   },
   "source": [
    "# Bivariant Anaylsis"
   ]
  },
  {
   "cell_type": "code",
   "execution_count": null,
   "metadata": {},
   "outputs": [],
   "source": [
    "# Task:-Get the insights from bivairate analysis"
   ]
  },
  {
   "cell_type": "code",
   "execution_count": null,
   "metadata": {
    "id": "Z7Q_2m2GDgCi"
   },
   "outputs": [],
   "source": [
    "plt.figure(figsize=(25,25),facecolor='white')#canvas size\n",
    "plotnum=1#counter\n",
    "for c in box:#columns form dataFrame\n",
    "    if(plotnum<9):#checking whether counter less than 9\n",
    "        a=plt.subplot(4,2,plotnum)#plotting 8 graph\n",
    "        sns.histplot(x=box[c],hue=data.wine,cbar=True,palette='husl')#to know relation between target and variable\n",
    "    plotnum+=1#increment counter\n",
    "plt.tight_layout()    "
   ]
  },
  {
   "cell_type": "markdown",
   "metadata": {},
   "source": [
    "## Bivariate & Multivariate Analysis Observation:\n",
    "\n",
    "### Impact of Alcohol in wine:\n",
    "* Most Alcohol content wine is class 1 & class 3.\n",
    "* If alcohol content less than 13% the wine is class 2\n",
    "\n",
    "### Impact of Malic acid in wine:\n",
    "* All class (grade)wine are same malic acid in wine.\n",
    "* But 1% malic acid mojority wine belong to class 2.\n",
    "\n",
    "### Ash:\n",
    "* Majority of class 2 wine ash between 1.25 to 2.75 \n",
    "* If ash more than (2-3.25) all classes wine are present.\n",
    "\n",
    "### Alcalinity of ash:\n",
    "* Less than 17.5 alcalinity of ash majority wine belong to class 1 & 3\n",
    "* If the wine alcalinity of ash more than 20.0 the wine belon to class 2.\n",
    "\n",
    "### Magnesium:\n",
    "* Maximum and minimum magnesium content wine belong to class 2.\n",
    "* The magnesium content wine range between 100 to 120 belong to all 3 classes.\n",
    "\n",
    "### Total phenols:\n",
    "* If the phenols is high in wine majority wine belong to class 1 & 3\n",
    "* In class 1 all phenols point are included.\n",
    "\n",
    "### Flavanoids:\n",
    "* Maximum and minimum falvanoid belong to class 1 & class 2\n",
    "\n",
    "### Nonflavanoid phenols:\n",
    "* If nonflavanoid phenols is increses majority wine belog to class 1 & class 2\n",
    "* 0.2 & 0.3 nonflavanoid phenols in wine belong to all classes.\n"
   ]
  },
  {
   "cell_type": "markdown",
   "metadata": {
    "id": "GiRdSvzhDgC_"
   },
   "source": [
    "# Data preprocessing"
   ]
  },
  {
   "cell_type": "markdown",
   "metadata": {
    "id": "_ysNxdUJDgDA"
   },
   "source": [
    "# 1.checking null values "
   ]
  },
  {
   "cell_type": "code",
   "execution_count": null,
   "metadata": {},
   "outputs": [],
   "source": [
    "data.info()"
   ]
  },
  {
   "cell_type": "code",
   "execution_count": null,
   "metadata": {
    "id": "A1EycLtFDgDD"
   },
   "outputs": [],
   "source": [
    "data.isnull().sum()"
   ]
  },
  {
   "cell_type": "markdown",
   "metadata": {
    "id": "qXQUWf9IDgDi"
   },
   "source": [
    "## 2.conversion of categorical columns into numerical columns"
   ]
  },
  {
   "cell_type": "code",
   "execution_count": null,
   "metadata": {},
   "outputs": [],
   "source": [
    "data.info()"
   ]
  },
  {
   "cell_type": "code",
   "execution_count": 6,
   "metadata": {
    "id": "4y4b2sjwDgDl"
   },
   "outputs": [],
   "source": [
    "for c in data.columns:#columns form datasets\n",
    "    if(data[c].dtype==object):#checking datatype of labels\n",
    "        print(c)  #categorical columns\n",
    "\n"
   ]
  },
  {
   "cell_type": "markdown",
   "metadata": {
    "id": "4ZY94J0rDgDr"
   },
   "source": [
    "## 3.checking outlier"
   ]
  },
  {
   "cell_type": "code",
   "execution_count": 7,
   "metadata": {
    "collapsed": true,
    "id": "TIGI1JIUDgDu",
    "outputId": "88790bbd-5747-4b21-c223-ef9fd0cfd5d2"
   },
   "outputs": [
    {
     "name": "stderr",
     "output_type": "stream",
     "text": [
      "C:\\Users\\hp\\anaconda3\\lib\\site-packages\\seaborn\\_decorators.py:36: FutureWarning: Pass the following variable as a keyword arg: x. From version 0.12, the only valid positional argument will be `data`, and passing other arguments without an explicit keyword will result in an error or misinterpretation.\n",
      "  warnings.warn(\n",
      "C:\\Users\\hp\\anaconda3\\lib\\site-packages\\seaborn\\_decorators.py:36: FutureWarning: Pass the following variable as a keyword arg: x. From version 0.12, the only valid positional argument will be `data`, and passing other arguments without an explicit keyword will result in an error or misinterpretation.\n",
      "  warnings.warn(\n",
      "C:\\Users\\hp\\anaconda3\\lib\\site-packages\\seaborn\\_decorators.py:36: FutureWarning: Pass the following variable as a keyword arg: x. From version 0.12, the only valid positional argument will be `data`, and passing other arguments without an explicit keyword will result in an error or misinterpretation.\n",
      "  warnings.warn(\n",
      "C:\\Users\\hp\\anaconda3\\lib\\site-packages\\seaborn\\_decorators.py:36: FutureWarning: Pass the following variable as a keyword arg: x. From version 0.12, the only valid positional argument will be `data`, and passing other arguments without an explicit keyword will result in an error or misinterpretation.\n",
      "  warnings.warn(\n",
      "C:\\Users\\hp\\anaconda3\\lib\\site-packages\\seaborn\\_decorators.py:36: FutureWarning: Pass the following variable as a keyword arg: x. From version 0.12, the only valid positional argument will be `data`, and passing other arguments without an explicit keyword will result in an error or misinterpretation.\n",
      "  warnings.warn(\n",
      "C:\\Users\\hp\\anaconda3\\lib\\site-packages\\seaborn\\_decorators.py:36: FutureWarning: Pass the following variable as a keyword arg: x. From version 0.12, the only valid positional argument will be `data`, and passing other arguments without an explicit keyword will result in an error or misinterpretation.\n",
      "  warnings.warn(\n",
      "C:\\Users\\hp\\anaconda3\\lib\\site-packages\\seaborn\\_decorators.py:36: FutureWarning: Pass the following variable as a keyword arg: x. From version 0.12, the only valid positional argument will be `data`, and passing other arguments without an explicit keyword will result in an error or misinterpretation.\n",
      "  warnings.warn(\n",
      "C:\\Users\\hp\\anaconda3\\lib\\site-packages\\seaborn\\_decorators.py:36: FutureWarning: Pass the following variable as a keyword arg: x. From version 0.12, the only valid positional argument will be `data`, and passing other arguments without an explicit keyword will result in an error or misinterpretation.\n",
      "  warnings.warn(\n",
      "C:\\Users\\hp\\anaconda3\\lib\\site-packages\\seaborn\\_decorators.py:36: FutureWarning: Pass the following variable as a keyword arg: x. From version 0.12, the only valid positional argument will be `data`, and passing other arguments without an explicit keyword will result in an error or misinterpretation.\n",
      "  warnings.warn(\n",
      "C:\\Users\\hp\\anaconda3\\lib\\site-packages\\seaborn\\_decorators.py:36: FutureWarning: Pass the following variable as a keyword arg: x. From version 0.12, the only valid positional argument will be `data`, and passing other arguments without an explicit keyword will result in an error or misinterpretation.\n",
      "  warnings.warn(\n",
      "C:\\Users\\hp\\anaconda3\\lib\\site-packages\\seaborn\\_decorators.py:36: FutureWarning: Pass the following variable as a keyword arg: x. From version 0.12, the only valid positional argument will be `data`, and passing other arguments without an explicit keyword will result in an error or misinterpretation.\n",
      "  warnings.warn(\n",
      "C:\\Users\\hp\\anaconda3\\lib\\site-packages\\seaborn\\_decorators.py:36: FutureWarning: Pass the following variable as a keyword arg: x. From version 0.12, the only valid positional argument will be `data`, and passing other arguments without an explicit keyword will result in an error or misinterpretation.\n",
      "  warnings.warn(\n",
      "C:\\Users\\hp\\anaconda3\\lib\\site-packages\\seaborn\\_decorators.py:36: FutureWarning: Pass the following variable as a keyword arg: x. From version 0.12, the only valid positional argument will be `data`, and passing other arguments without an explicit keyword will result in an error or misinterpretation.\n",
      "  warnings.warn(\n"
     ]
    },
    {
     "data": {
      "image/png": "[encoded data removed]",
      "text/plain": [
       "<Figure size 1800x1800 with 13 Axes>"
      ]
     },
     "metadata": {},
     "output_type": "display_data"
    }
   ],
   "source": [
    "plt.figure(figsize=(25,25),facecolor='white')\n",
    "plotnum=1\n",
    "for c in box:\n",
    "    if(plotnum<14):\n",
    "        ax=plt.subplot(4,4,plotnum)\n",
    "        sns.boxplot(box[c])\n",
    "    plotnum+=1\n",
    "plt.tight_layout()"
   ]
  },
  {
   "cell_type": "markdown",
   "metadata": {
    "id": "TCQL85arDgD1"
   },
   "source": [
    "# Outlier Handling"
   ]
  },
  {
   "cell_type": "markdown",
   "metadata": {
    "id": "iM4ve6hPDgD3"
   },
   "source": [
    "# M_acid"
   ]
  },
  {
   "cell_type": "code",
   "execution_count": 8,
   "metadata": {
    "id": "n6_q3LB5DgD7"
   },
   "outputs": [],
   "source": [
    "#outlier handling for M_acid and its not a normal so we use IQR range\n",
    "from scipy import stats#import stats to calculat mod\n"
   ]
  },
  {
   "cell_type": "code",
   "execution_count": 9,
   "metadata": {
    "id": "CI0oUv-ODgD9",
    "outputId": "41f82058-e988-4493-81a5-d5adcf216d49"
   },
   "outputs": [
    {
     "data": {
      "text/plain": [
       "1.46"
      ]
     },
     "execution_count": 9,
     "metadata": {},
     "output_type": "execute_result"
    }
   ],
   "source": [
    "IQR = stats.iqr(data.M_acid, interpolation = 'midpoint') #calculating Inter quantile range\n",
    "\n",
    "IQR"
   ]
  },
  {
   "cell_type": "code",
   "execution_count": 10,
   "metadata": {
    "id": "ADUmPCJbDgEC"
   },
   "outputs": [],
   "source": [
    "Q1=data.M_acid.quantile(0.25)#defining 25% of data\n",
    "Q3=data.M_acid.quantile(0.75)##defining 75% of data\n",
    "min_limit=Q1 - 1.5*IQR#setting minimum limit\n",
    "\n",
    "\n",
    "max_limit=Q3 + 1.5*IQR#setting maximum limit\n"
   ]
  },
  {
   "cell_type": "code",
   "execution_count": 11,
   "metadata": {
    "id": "ggHte3j9DgEE",
    "outputId": "4a203a45-4c0f-4dea-c381-2ab4519ea10b"
   },
   "outputs": [
    {
     "name": "stdout",
     "output_type": "stream",
     "text": [
      "-0.5874999999999999 5.2725\n"
     ]
    }
   ],
   "source": [
    "print(min_limit,max_limit)"
   ]
  },
  {
   "cell_type": "code",
   "execution_count": 12,
   "metadata": {
    "id": "r7dDhTpNDgEF",
    "outputId": "80dfc0fc-972c-478a-dd33-1b6fc8ee2d6f"
   },
   "outputs": [
    {
     "data": {
      "text/html": [
       "<div>\n",
       "<style scoped>\n",
       "    .dataframe tbody tr th:only-of-type {\n",
       "        vertical-align: middle;\n",
       "    }\n",
       "\n",
       "    .dataframe tbody tr th {\n",
       "        vertical-align: top;\n",
       "    }\n",
       "\n",
       "    .dataframe thead th {\n",
       "        text-align: right;\n",
       "    }\n",
       "</style>\n",
       "<table border=\"1\" class=\"dataframe\">\n",
       "  <thead>\n",
       "    <tr style=\"text-align: right;\">\n",
       "      <th></th>\n",
       "      <th>wine</th>\n",
       "      <th>alcohol</th>\n",
       "      <th>M_acid</th>\n",
       "      <th>Ash</th>\n",
       "      <th>AOA</th>\n",
       "      <th>Magnesium</th>\n",
       "      <th>total_phe</th>\n",
       "      <th>Flavanoids</th>\n",
       "      <th>NOP</th>\n",
       "      <th>Proanthocyanins</th>\n",
       "      <th>color_intensity</th>\n",
       "      <th>hu</th>\n",
       "      <th>DW</th>\n",
       "      <th>Proline</th>\n",
       "    </tr>\n",
       "  </thead>\n",
       "  <tbody>\n",
       "  </tbody>\n",
       "</table>\n",
       "</div>"
      ],
      "text/plain": [
       "Empty DataFrame\n",
       "Columns: [wine, alcohol, M_acid, Ash, AOA, Magnesium, total_phe, Flavanoids, NOP, Proanthocyanins, color_intensity, hu, DW, Proline]\n",
       "Index: []"
      ]
     },
     "execution_count": 12,
     "metadata": {},
     "output_type": "execute_result"
    }
   ],
   "source": [
    "data.loc[data['M_acid']<min_limit] #checking values which are less than minimum limit"
   ]
  },
  {
   "cell_type": "code",
   "execution_count": 13,
   "metadata": {
    "id": "ATM_FiHeDgEH",
    "outputId": "2e764c44-68f6-4fcf-e1ab-5eb7654cf8b7"
   },
   "outputs": [
    {
     "data": {
      "text/html": [
       "<div>\n",
       "<style scoped>\n",
       "    .dataframe tbody tr th:only-of-type {\n",
       "        vertical-align: middle;\n",
       "    }\n",
       "\n",
       "    .dataframe tbody tr th {\n",
       "        vertical-align: top;\n",
       "    }\n",
       "\n",
       "    .dataframe thead th {\n",
       "        text-align: right;\n",
       "    }\n",
       "</style>\n",
       "<table border=\"1\" class=\"dataframe\">\n",
       "  <thead>\n",
       "    <tr style=\"text-align: right;\">\n",
       "      <th></th>\n",
       "      <th>wine</th>\n",
       "      <th>alcohol</th>\n",
       "      <th>M_acid</th>\n",
       "      <th>Ash</th>\n",
       "      <th>AOA</th>\n",
       "      <th>Magnesium</th>\n",
       "      <th>total_phe</th>\n",
       "      <th>Flavanoids</th>\n",
       "      <th>NOP</th>\n",
       "      <th>Proanthocyanins</th>\n",
       "      <th>color_intensity</th>\n",
       "      <th>hu</th>\n",
       "      <th>DW</th>\n",
       "      <th>Proline</th>\n",
       "    </tr>\n",
       "  </thead>\n",
       "  <tbody>\n",
       "    <tr>\n",
       "      <th>123</th>\n",
       "      <td>2</td>\n",
       "      <td>13.05</td>\n",
       "      <td>5.80</td>\n",
       "      <td>2.13</td>\n",
       "      <td>21.5</td>\n",
       "      <td>86</td>\n",
       "      <td>2.62</td>\n",
       "      <td>2.65</td>\n",
       "      <td>0.30</td>\n",
       "      <td>2.01</td>\n",
       "      <td>2.6</td>\n",
       "      <td>0.73</td>\n",
       "      <td>3.10</td>\n",
       "      <td>380</td>\n",
       "    </tr>\n",
       "    <tr>\n",
       "      <th>137</th>\n",
       "      <td>3</td>\n",
       "      <td>12.53</td>\n",
       "      <td>5.51</td>\n",
       "      <td>2.64</td>\n",
       "      <td>25.0</td>\n",
       "      <td>96</td>\n",
       "      <td>1.79</td>\n",
       "      <td>0.60</td>\n",
       "      <td>0.63</td>\n",
       "      <td>1.10</td>\n",
       "      <td>5.0</td>\n",
       "      <td>0.82</td>\n",
       "      <td>1.69</td>\n",
       "      <td>515</td>\n",
       "    </tr>\n",
       "    <tr>\n",
       "      <th>173</th>\n",
       "      <td>3</td>\n",
       "      <td>13.71</td>\n",
       "      <td>5.65</td>\n",
       "      <td>2.45</td>\n",
       "      <td>20.5</td>\n",
       "      <td>95</td>\n",
       "      <td>1.68</td>\n",
       "      <td>0.61</td>\n",
       "      <td>0.52</td>\n",
       "      <td>1.06</td>\n",
       "      <td>7.7</td>\n",
       "      <td>0.64</td>\n",
       "      <td>1.74</td>\n",
       "      <td>740</td>\n",
       "    </tr>\n",
       "  </tbody>\n",
       "</table>\n",
       "</div>"
      ],
      "text/plain": [
       "     wine  alcohol  M_acid   Ash   AOA  Magnesium  total_phe  Flavanoids  \\\n",
       "123     2    13.05    5.80  2.13  21.5         86       2.62        2.65   \n",
       "137     3    12.53    5.51  2.64  25.0         96       1.79        0.60   \n",
       "173     3    13.71    5.65  2.45  20.5         95       1.68        0.61   \n",
       "\n",
       "      NOP  Proanthocyanins  color_intensity    hu    DW  Proline  \n",
       "123  0.30             2.01              2.6  0.73  3.10      380  \n",
       "137  0.63             1.10              5.0  0.82  1.69      515  \n",
       "173  0.52             1.06              7.7  0.64  1.74      740  "
      ]
     },
     "execution_count": 13,
     "metadata": {},
     "output_type": "execute_result"
    }
   ],
   "source": [
    "data.loc[data['M_acid']>max_limit]#checking values which are greater than maximum limit\n"
   ]
  },
  {
   "cell_type": "code",
   "execution_count": 14,
   "metadata": {
    "id": "o2J9ITsJDgEQ"
   },
   "outputs": [],
   "source": [
    "data.loc[data['M_acid']>max_limit,'M_acid']=np.median(data.M_acid)#imputing value with median"
   ]
  },
  {
   "cell_type": "code",
   "execution_count": 15,
   "metadata": {},
   "outputs": [
    {
     "data": {
      "text/plain": [
       "1.8625000000000003"
      ]
     },
     "execution_count": 15,
     "metadata": {},
     "output_type": "execute_result"
    }
   ],
   "source": [
    "np.median(data.M_acid)"
   ]
  },
  {
   "cell_type": "code",
   "execution_count": 16,
   "metadata": {
    "id": "yfTnsj8LDgER",
    "outputId": "fb6200a9-9111-44fd-c6f3-39ac619e137c"
   },
   "outputs": [
    {
     "data": {
      "text/html": [
       "<div>\n",
       "<style scoped>\n",
       "    .dataframe tbody tr th:only-of-type {\n",
       "        vertical-align: middle;\n",
       "    }\n",
       "\n",
       "    .dataframe tbody tr th {\n",
       "        vertical-align: top;\n",
       "    }\n",
       "\n",
       "    .dataframe thead th {\n",
       "        text-align: right;\n",
       "    }\n",
       "</style>\n",
       "<table border=\"1\" class=\"dataframe\">\n",
       "  <thead>\n",
       "    <tr style=\"text-align: right;\">\n",
       "      <th></th>\n",
       "      <th>wine</th>\n",
       "      <th>alcohol</th>\n",
       "      <th>M_acid</th>\n",
       "      <th>Ash</th>\n",
       "      <th>AOA</th>\n",
       "      <th>Magnesium</th>\n",
       "      <th>total_phe</th>\n",
       "      <th>Flavanoids</th>\n",
       "      <th>NOP</th>\n",
       "      <th>Proanthocyanins</th>\n",
       "      <th>color_intensity</th>\n",
       "      <th>hu</th>\n",
       "      <th>DW</th>\n",
       "      <th>Proline</th>\n",
       "    </tr>\n",
       "  </thead>\n",
       "  <tbody>\n",
       "  </tbody>\n",
       "</table>\n",
       "</div>"
      ],
      "text/plain": [
       "Empty DataFrame\n",
       "Columns: [wine, alcohol, M_acid, Ash, AOA, Magnesium, total_phe, Flavanoids, NOP, Proanthocyanins, color_intensity, hu, DW, Proline]\n",
       "Index: []"
      ]
     },
     "execution_count": 16,
     "metadata": {},
     "output_type": "execute_result"
    }
   ],
   "source": [
    "data.loc[data['M_acid']>max_limit]#checking whether outlier remove or not"
   ]
  },
  {
   "cell_type": "code",
   "execution_count": 17,
   "metadata": {
    "id": "77dLmiviDgET",
    "outputId": "0466e65e-e6a0-41df-84df-e452b8509bfe",
    "scrolled": true
   },
   "outputs": [
    {
     "name": "stderr",
     "output_type": "stream",
     "text": [
      "C:\\Users\\hp\\anaconda3\\lib\\site-packages\\seaborn\\_decorators.py:36: FutureWarning: Pass the following variable as a keyword arg: x. From version 0.12, the only valid positional argument will be `data`, and passing other arguments without an explicit keyword will result in an error or misinterpretation.\n",
      "  warnings.warn(\n"
     ]
    },
    {
     "data": {
      "image/png": "[encoded data removed]",
      "text/plain": [
       "<Figure size 432x288 with 1 Axes>"
      ]
     },
     "metadata": {
      "needs_background": "light"
     },
     "output_type": "display_data"
    }
   ],
   "source": [
    "sns.boxplot(data.M_acid)#boxplot to check outlier\n",
    "plt.show()"
   ]
  },
  {
   "cell_type": "code",
   "execution_count": 18,
   "metadata": {},
   "outputs": [],
   "source": [
    "# Calculate the IQR range on new data."
   ]
  },
  {
   "cell_type": "markdown",
   "metadata": {
    "id": "9ZwpCnj9DgEV"
   },
   "source": [
    "# Ash"
   ]
  },
  {
   "cell_type": "markdown",
   "metadata": {
    "id": "p12LWdCZDgEV"
   },
   "source": [
    "### Using 3 sigma rule"
   ]
  },
  {
   "cell_type": "code",
   "execution_count": 19,
   "metadata": {
    "id": "1LuHDPr3DgEX",
    "outputId": "36f92cc7-3de4-495c-b1be-c469013b4324"
   },
   "outputs": [
    {
     "name": "stdout",
     "output_type": "stream",
     "text": [
      "1.543484826750141\n"
     ]
    },
    {
     "data": {
      "text/plain": [
       "3.1895488811150297"
      ]
     },
     "execution_count": 19,
     "metadata": {},
     "output_type": "execute_result"
    }
   ],
   "source": [
    "# for ash we will use 3 sigma rule \n",
    "lower_limit=data.Ash.mean() - 3*data.Ash.std()#calculating lower limit\n",
    "print(lower_limit)\n",
    "\n",
    "upper_limit=data.Ash.mean() + 3*data.Ash.std()#calculating upper limit\n",
    "upper_limit"
   ]
  },
  {
   "cell_type": "code",
   "execution_count": 20,
   "metadata": {
    "id": "t89EQDzCDgEZ",
    "outputId": "aea6aa4f-5bb1-4b98-8832-703cdf340bee"
   },
   "outputs": [
    {
     "data": {
      "text/html": [
       "<div>\n",
       "<style scoped>\n",
       "    .dataframe tbody tr th:only-of-type {\n",
       "        vertical-align: middle;\n",
       "    }\n",
       "\n",
       "    .dataframe tbody tr th {\n",
       "        vertical-align: top;\n",
       "    }\n",
       "\n",
       "    .dataframe thead th {\n",
       "        text-align: right;\n",
       "    }\n",
       "</style>\n",
       "<table border=\"1\" class=\"dataframe\">\n",
       "  <thead>\n",
       "    <tr style=\"text-align: right;\">\n",
       "      <th></th>\n",
       "      <th>wine</th>\n",
       "      <th>alcohol</th>\n",
       "      <th>M_acid</th>\n",
       "      <th>Ash</th>\n",
       "      <th>AOA</th>\n",
       "      <th>Magnesium</th>\n",
       "      <th>total_phe</th>\n",
       "      <th>Flavanoids</th>\n",
       "      <th>NOP</th>\n",
       "      <th>Proanthocyanins</th>\n",
       "      <th>color_intensity</th>\n",
       "      <th>hu</th>\n",
       "      <th>DW</th>\n",
       "      <th>Proline</th>\n",
       "    </tr>\n",
       "  </thead>\n",
       "  <tbody>\n",
       "    <tr>\n",
       "      <th>59</th>\n",
       "      <td>2</td>\n",
       "      <td>12.37</td>\n",
       "      <td>0.94</td>\n",
       "      <td>1.36</td>\n",
       "      <td>10.6</td>\n",
       "      <td>88</td>\n",
       "      <td>1.98</td>\n",
       "      <td>0.57</td>\n",
       "      <td>0.28</td>\n",
       "      <td>0.42</td>\n",
       "      <td>1.95</td>\n",
       "      <td>1.05</td>\n",
       "      <td>1.82</td>\n",
       "      <td>520</td>\n",
       "    </tr>\n",
       "  </tbody>\n",
       "</table>\n",
       "</div>"
      ],
      "text/plain": [
       "    wine  alcohol  M_acid   Ash   AOA  Magnesium  total_phe  Flavanoids   NOP  \\\n",
       "59     2    12.37    0.94  1.36  10.6         88       1.98        0.57  0.28   \n",
       "\n",
       "    Proanthocyanins  color_intensity    hu    DW  Proline  \n",
       "59             0.42             1.95  1.05  1.82      520  "
      ]
     },
     "execution_count": 20,
     "metadata": {},
     "output_type": "execute_result"
    }
   ],
   "source": [
    "data.loc[data['Ash']<lower_limit]#checking values which are less than minimum limit"
   ]
  },
  {
   "cell_type": "code",
   "execution_count": 21,
   "metadata": {
    "id": "pByZggMXDgEc"
   },
   "outputs": [],
   "source": [
    "data.loc[data['Ash']<lower_limit,'Ash']=np.mean(data.Ash)"
   ]
  },
  {
   "cell_type": "code",
   "execution_count": 22,
   "metadata": {
    "id": "iI8FiIp7DgEd",
    "outputId": "2ab2ad11-c553-48d5-8d60-5aaa1d98b835"
   },
   "outputs": [
    {
     "data": {
      "text/html": [
       "<div>\n",
       "<style scoped>\n",
       "    .dataframe tbody tr th:only-of-type {\n",
       "        vertical-align: middle;\n",
       "    }\n",
       "\n",
       "    .dataframe tbody tr th {\n",
       "        vertical-align: top;\n",
       "    }\n",
       "\n",
       "    .dataframe thead th {\n",
       "        text-align: right;\n",
       "    }\n",
       "</style>\n",
       "<table border=\"1\" class=\"dataframe\">\n",
       "  <thead>\n",
       "    <tr style=\"text-align: right;\">\n",
       "      <th></th>\n",
       "      <th>wine</th>\n",
       "      <th>alcohol</th>\n",
       "      <th>M_acid</th>\n",
       "      <th>Ash</th>\n",
       "      <th>AOA</th>\n",
       "      <th>Magnesium</th>\n",
       "      <th>total_phe</th>\n",
       "      <th>Flavanoids</th>\n",
       "      <th>NOP</th>\n",
       "      <th>Proanthocyanins</th>\n",
       "      <th>color_intensity</th>\n",
       "      <th>hu</th>\n",
       "      <th>DW</th>\n",
       "      <th>Proline</th>\n",
       "    </tr>\n",
       "  </thead>\n",
       "  <tbody>\n",
       "  </tbody>\n",
       "</table>\n",
       "</div>"
      ],
      "text/plain": [
       "Empty DataFrame\n",
       "Columns: [wine, alcohol, M_acid, Ash, AOA, Magnesium, total_phe, Flavanoids, NOP, Proanthocyanins, color_intensity, hu, DW, Proline]\n",
       "Index: []"
      ]
     },
     "execution_count": 22,
     "metadata": {},
     "output_type": "execute_result"
    }
   ],
   "source": [
    "data.loc[data['Ash']<lower_limit]"
   ]
  },
  {
   "cell_type": "code",
   "execution_count": 23,
   "metadata": {
    "id": "yfkPATI-DgEe",
    "outputId": "6e02b28e-7a15-4c00-99e4-f6df01c722ed"
   },
   "outputs": [
    {
     "data": {
      "text/html": [
       "<div>\n",
       "<style scoped>\n",
       "    .dataframe tbody tr th:only-of-type {\n",
       "        vertical-align: middle;\n",
       "    }\n",
       "\n",
       "    .dataframe tbody tr th {\n",
       "        vertical-align: top;\n",
       "    }\n",
       "\n",
       "    .dataframe thead th {\n",
       "        text-align: right;\n",
       "    }\n",
       "</style>\n",
       "<table border=\"1\" class=\"dataframe\">\n",
       "  <thead>\n",
       "    <tr style=\"text-align: right;\">\n",
       "      <th></th>\n",
       "      <th>wine</th>\n",
       "      <th>alcohol</th>\n",
       "      <th>M_acid</th>\n",
       "      <th>Ash</th>\n",
       "      <th>AOA</th>\n",
       "      <th>Magnesium</th>\n",
       "      <th>total_phe</th>\n",
       "      <th>Flavanoids</th>\n",
       "      <th>NOP</th>\n",
       "      <th>Proanthocyanins</th>\n",
       "      <th>color_intensity</th>\n",
       "      <th>hu</th>\n",
       "      <th>DW</th>\n",
       "      <th>Proline</th>\n",
       "    </tr>\n",
       "  </thead>\n",
       "  <tbody>\n",
       "    <tr>\n",
       "      <th>25</th>\n",
       "      <td>1</td>\n",
       "      <td>13.05</td>\n",
       "      <td>2.05</td>\n",
       "      <td>3.22</td>\n",
       "      <td>25.0</td>\n",
       "      <td>124</td>\n",
       "      <td>2.63</td>\n",
       "      <td>2.68</td>\n",
       "      <td>0.47</td>\n",
       "      <td>1.92</td>\n",
       "      <td>3.58</td>\n",
       "      <td>1.13</td>\n",
       "      <td>3.20</td>\n",
       "      <td>830</td>\n",
       "    </tr>\n",
       "    <tr>\n",
       "      <th>121</th>\n",
       "      <td>2</td>\n",
       "      <td>11.56</td>\n",
       "      <td>2.05</td>\n",
       "      <td>3.23</td>\n",
       "      <td>28.5</td>\n",
       "      <td>119</td>\n",
       "      <td>3.18</td>\n",
       "      <td>5.08</td>\n",
       "      <td>0.47</td>\n",
       "      <td>1.87</td>\n",
       "      <td>6.00</td>\n",
       "      <td>0.93</td>\n",
       "      <td>3.69</td>\n",
       "      <td>465</td>\n",
       "    </tr>\n",
       "  </tbody>\n",
       "</table>\n",
       "</div>"
      ],
      "text/plain": [
       "     wine  alcohol  M_acid   Ash   AOA  Magnesium  total_phe  Flavanoids  \\\n",
       "25      1    13.05    2.05  3.22  25.0        124       2.63        2.68   \n",
       "121     2    11.56    2.05  3.23  28.5        119       3.18        5.08   \n",
       "\n",
       "      NOP  Proanthocyanins  color_intensity    hu    DW  Proline  \n",
       "25   0.47             1.92             3.58  1.13  3.20      830  \n",
       "121  0.47             1.87             6.00  0.93  3.69      465  "
      ]
     },
     "execution_count": 23,
     "metadata": {},
     "output_type": "execute_result"
    }
   ],
   "source": [
    "data.loc[data['Ash']>upper_limit]#checking values which are greater than maximum limit\n",
    "\n",
    " "
   ]
  },
  {
   "cell_type": "code",
   "execution_count": 24,
   "metadata": {
    "id": "OT4MB5TxDgEf"
   },
   "outputs": [],
   "source": [
    "data.loc[data['Ash']>upper_limit,'Ash']=np.mean(data.Ash)#imputing value with mean"
   ]
  },
  {
   "cell_type": "code",
   "execution_count": 25,
   "metadata": {
    "id": "0s-EBe-1DgEg",
    "outputId": "1d3dcad0-b93d-48ba-82b7-9922d06cc5a5"
   },
   "outputs": [
    {
     "data": {
      "text/html": [
       "<div>\n",
       "<style scoped>\n",
       "    .dataframe tbody tr th:only-of-type {\n",
       "        vertical-align: middle;\n",
       "    }\n",
       "\n",
       "    .dataframe tbody tr th {\n",
       "        vertical-align: top;\n",
       "    }\n",
       "\n",
       "    .dataframe thead th {\n",
       "        text-align: right;\n",
       "    }\n",
       "</style>\n",
       "<table border=\"1\" class=\"dataframe\">\n",
       "  <thead>\n",
       "    <tr style=\"text-align: right;\">\n",
       "      <th></th>\n",
       "      <th>wine</th>\n",
       "      <th>alcohol</th>\n",
       "      <th>M_acid</th>\n",
       "      <th>Ash</th>\n",
       "      <th>AOA</th>\n",
       "      <th>Magnesium</th>\n",
       "      <th>total_phe</th>\n",
       "      <th>Flavanoids</th>\n",
       "      <th>NOP</th>\n",
       "      <th>Proanthocyanins</th>\n",
       "      <th>color_intensity</th>\n",
       "      <th>hu</th>\n",
       "      <th>DW</th>\n",
       "      <th>Proline</th>\n",
       "    </tr>\n",
       "  </thead>\n",
       "  <tbody>\n",
       "  </tbody>\n",
       "</table>\n",
       "</div>"
      ],
      "text/plain": [
       "Empty DataFrame\n",
       "Columns: [wine, alcohol, M_acid, Ash, AOA, Magnesium, total_phe, Flavanoids, NOP, Proanthocyanins, color_intensity, hu, DW, Proline]\n",
       "Index: []"
      ]
     },
     "execution_count": 25,
     "metadata": {},
     "output_type": "execute_result"
    }
   ],
   "source": [
    "data.loc[data['Ash']>upper_limit]#recheck"
   ]
  },
  {
   "cell_type": "markdown",
   "metadata": {
    "id": "VhPMutDLDgEh"
   },
   "source": [
    "# AOA this is a normally distrubuted using 3 sigma rule"
   ]
  },
  {
   "cell_type": "code",
   "execution_count": 26,
   "metadata": {
    "id": "GZhq1jFxDgEi",
    "outputId": "5b0a2cf9-18cb-4d92-a1dc-817df4fea6e0"
   },
   "outputs": [
    {
     "data": {
      "text/html": [
       "<div>\n",
       "<style scoped>\n",
       "    .dataframe tbody tr th:only-of-type {\n",
       "        vertical-align: middle;\n",
       "    }\n",
       "\n",
       "    .dataframe tbody tr th {\n",
       "        vertical-align: top;\n",
       "    }\n",
       "\n",
       "    .dataframe thead th {\n",
       "        text-align: right;\n",
       "    }\n",
       "</style>\n",
       "<table border=\"1\" class=\"dataframe\">\n",
       "  <thead>\n",
       "    <tr style=\"text-align: right;\">\n",
       "      <th></th>\n",
       "      <th>wine</th>\n",
       "      <th>alcohol</th>\n",
       "      <th>M_acid</th>\n",
       "      <th>Ash</th>\n",
       "      <th>AOA</th>\n",
       "      <th>Magnesium</th>\n",
       "      <th>total_phe</th>\n",
       "      <th>Flavanoids</th>\n",
       "      <th>NOP</th>\n",
       "      <th>Proanthocyanins</th>\n",
       "      <th>color_intensity</th>\n",
       "      <th>hu</th>\n",
       "      <th>DW</th>\n",
       "      <th>Proline</th>\n",
       "    </tr>\n",
       "  </thead>\n",
       "  <tbody>\n",
       "    <tr>\n",
       "      <th>59</th>\n",
       "      <td>2</td>\n",
       "      <td>12.37</td>\n",
       "      <td>0.94</td>\n",
       "      <td>2.366517</td>\n",
       "      <td>10.6</td>\n",
       "      <td>88</td>\n",
       "      <td>1.98</td>\n",
       "      <td>0.57</td>\n",
       "      <td>0.28</td>\n",
       "      <td>0.42</td>\n",
       "      <td>1.95</td>\n",
       "      <td>1.05</td>\n",
       "      <td>1.82</td>\n",
       "      <td>520</td>\n",
       "    </tr>\n",
       "    <tr>\n",
       "      <th>1</th>\n",
       "      <td>1</td>\n",
       "      <td>13.20</td>\n",
       "      <td>1.78</td>\n",
       "      <td>2.140000</td>\n",
       "      <td>11.2</td>\n",
       "      <td>100</td>\n",
       "      <td>2.65</td>\n",
       "      <td>2.76</td>\n",
       "      <td>0.26</td>\n",
       "      <td>1.28</td>\n",
       "      <td>4.38</td>\n",
       "      <td>1.05</td>\n",
       "      <td>3.40</td>\n",
       "      <td>1050</td>\n",
       "    </tr>\n",
       "    <tr>\n",
       "      <th>13</th>\n",
       "      <td>1</td>\n",
       "      <td>14.75</td>\n",
       "      <td>1.73</td>\n",
       "      <td>2.390000</td>\n",
       "      <td>11.4</td>\n",
       "      <td>91</td>\n",
       "      <td>3.10</td>\n",
       "      <td>3.69</td>\n",
       "      <td>0.43</td>\n",
       "      <td>2.81</td>\n",
       "      <td>5.40</td>\n",
       "      <td>1.25</td>\n",
       "      <td>2.73</td>\n",
       "      <td>1150</td>\n",
       "    </tr>\n",
       "    <tr>\n",
       "      <th>14</th>\n",
       "      <td>1</td>\n",
       "      <td>14.38</td>\n",
       "      <td>1.87</td>\n",
       "      <td>2.380000</td>\n",
       "      <td>12.0</td>\n",
       "      <td>102</td>\n",
       "      <td>3.30</td>\n",
       "      <td>3.64</td>\n",
       "      <td>0.29</td>\n",
       "      <td>2.96</td>\n",
       "      <td>7.50</td>\n",
       "      <td>1.20</td>\n",
       "      <td>3.00</td>\n",
       "      <td>1547</td>\n",
       "    </tr>\n",
       "    <tr>\n",
       "      <th>50</th>\n",
       "      <td>1</td>\n",
       "      <td>13.05</td>\n",
       "      <td>1.73</td>\n",
       "      <td>2.040000</td>\n",
       "      <td>12.4</td>\n",
       "      <td>92</td>\n",
       "      <td>2.72</td>\n",
       "      <td>3.27</td>\n",
       "      <td>0.17</td>\n",
       "      <td>2.91</td>\n",
       "      <td>7.20</td>\n",
       "      <td>1.12</td>\n",
       "      <td>2.91</td>\n",
       "      <td>1150</td>\n",
       "    </tr>\n",
       "    <tr>\n",
       "      <th>...</th>\n",
       "      <td>...</td>\n",
       "      <td>...</td>\n",
       "      <td>...</td>\n",
       "      <td>...</td>\n",
       "      <td>...</td>\n",
       "      <td>...</td>\n",
       "      <td>...</td>\n",
       "      <td>...</td>\n",
       "      <td>...</td>\n",
       "      <td>...</td>\n",
       "      <td>...</td>\n",
       "      <td>...</td>\n",
       "      <td>...</td>\n",
       "      <td>...</td>\n",
       "    </tr>\n",
       "    <tr>\n",
       "      <th>122</th>\n",
       "      <td>2</td>\n",
       "      <td>12.42</td>\n",
       "      <td>4.43</td>\n",
       "      <td>2.730000</td>\n",
       "      <td>26.5</td>\n",
       "      <td>102</td>\n",
       "      <td>2.20</td>\n",
       "      <td>2.13</td>\n",
       "      <td>0.43</td>\n",
       "      <td>1.71</td>\n",
       "      <td>2.08</td>\n",
       "      <td>0.92</td>\n",
       "      <td>3.12</td>\n",
       "      <td>365</td>\n",
       "    </tr>\n",
       "    <tr>\n",
       "      <th>157</th>\n",
       "      <td>3</td>\n",
       "      <td>12.45</td>\n",
       "      <td>3.03</td>\n",
       "      <td>2.640000</td>\n",
       "      <td>27.0</td>\n",
       "      <td>97</td>\n",
       "      <td>1.90</td>\n",
       "      <td>0.58</td>\n",
       "      <td>0.63</td>\n",
       "      <td>1.14</td>\n",
       "      <td>7.50</td>\n",
       "      <td>0.67</td>\n",
       "      <td>1.73</td>\n",
       "      <td>880</td>\n",
       "    </tr>\n",
       "    <tr>\n",
       "      <th>121</th>\n",
       "      <td>2</td>\n",
       "      <td>11.56</td>\n",
       "      <td>2.05</td>\n",
       "      <td>2.372171</td>\n",
       "      <td>28.5</td>\n",
       "      <td>119</td>\n",
       "      <td>3.18</td>\n",
       "      <td>5.08</td>\n",
       "      <td>0.47</td>\n",
       "      <td>1.87</td>\n",
       "      <td>6.00</td>\n",
       "      <td>0.93</td>\n",
       "      <td>3.69</td>\n",
       "      <td>465</td>\n",
       "    </tr>\n",
       "    <tr>\n",
       "      <th>127</th>\n",
       "      <td>2</td>\n",
       "      <td>11.79</td>\n",
       "      <td>2.13</td>\n",
       "      <td>2.780000</td>\n",
       "      <td>28.5</td>\n",
       "      <td>92</td>\n",
       "      <td>2.13</td>\n",
       "      <td>2.24</td>\n",
       "      <td>0.58</td>\n",
       "      <td>1.76</td>\n",
       "      <td>3.00</td>\n",
       "      <td>0.97</td>\n",
       "      <td>2.44</td>\n",
       "      <td>466</td>\n",
       "    </tr>\n",
       "    <tr>\n",
       "      <th>73</th>\n",
       "      <td>2</td>\n",
       "      <td>12.99</td>\n",
       "      <td>1.67</td>\n",
       "      <td>2.600000</td>\n",
       "      <td>30.0</td>\n",
       "      <td>139</td>\n",
       "      <td>3.30</td>\n",
       "      <td>2.89</td>\n",
       "      <td>0.21</td>\n",
       "      <td>1.96</td>\n",
       "      <td>3.35</td>\n",
       "      <td>1.31</td>\n",
       "      <td>3.50</td>\n",
       "      <td>985</td>\n",
       "    </tr>\n",
       "  </tbody>\n",
       "</table>\n",
       "<p>178 rows × 14 columns</p>\n",
       "</div>"
      ],
      "text/plain": [
       "     wine  alcohol  M_acid       Ash   AOA  Magnesium  total_phe  Flavanoids  \\\n",
       "59      2    12.37    0.94  2.366517  10.6         88       1.98        0.57   \n",
       "1       1    13.20    1.78  2.140000  11.2        100       2.65        2.76   \n",
       "13      1    14.75    1.73  2.390000  11.4         91       3.10        3.69   \n",
       "14      1    14.38    1.87  2.380000  12.0        102       3.30        3.64   \n",
       "50      1    13.05    1.73  2.040000  12.4         92       2.72        3.27   \n",
       "..    ...      ...     ...       ...   ...        ...        ...         ...   \n",
       "122     2    12.42    4.43  2.730000  26.5        102       2.20        2.13   \n",
       "157     3    12.45    3.03  2.640000  27.0         97       1.90        0.58   \n",
       "121     2    11.56    2.05  2.372171  28.5        119       3.18        5.08   \n",
       "127     2    11.79    2.13  2.780000  28.5         92       2.13        2.24   \n",
       "73      2    12.99    1.67  2.600000  30.0        139       3.30        2.89   \n",
       "\n",
       "      NOP  Proanthocyanins  color_intensity    hu    DW  Proline  \n",
       "59   0.28             0.42             1.95  1.05  1.82      520  \n",
       "1    0.26             1.28             4.38  1.05  3.40     1050  \n",
       "13   0.43             2.81             5.40  1.25  2.73     1150  \n",
       "14   0.29             2.96             7.50  1.20  3.00     1547  \n",
       "50   0.17             2.91             7.20  1.12  2.91     1150  \n",
       "..    ...              ...              ...   ...   ...      ...  \n",
       "122  0.43             1.71             2.08  0.92  3.12      365  \n",
       "157  0.63             1.14             7.50  0.67  1.73      880  \n",
       "121  0.47             1.87             6.00  0.93  3.69      465  \n",
       "127  0.58             1.76             3.00  0.97  2.44      466  \n",
       "73   0.21             1.96             3.35  1.31  3.50      985  \n",
       "\n",
       "[178 rows x 14 columns]"
      ]
     },
     "execution_count": 26,
     "metadata": {},
     "output_type": "execute_result"
    }
   ],
   "source": [
    "data.sort_values('AOA')"
   ]
  },
  {
   "cell_type": "code",
   "execution_count": 27,
   "metadata": {
    "id": "mSg156gDDgEo",
    "outputId": "81ad15ec-ff35-4afa-8673-eb337fed25fd"
   },
   "outputs": [
    {
     "name": "stdout",
     "output_type": "stream",
     "text": [
      "9.476252518704204\n"
     ]
    },
    {
     "data": {
      "text/plain": [
       "29.513635121745235"
      ]
     },
     "execution_count": 27,
     "metadata": {},
     "output_type": "execute_result"
    }
   ],
   "source": [
    "lower_limit=data.AOA.mean() - 3*data.AOA.std()##calculating lower limit\n",
    "print(lower_limit)\n",
    "\n",
    "upper_limit=data.AOA.mean() + 3*data.AOA.std()#calculating upper limit\n",
    "upper_limit"
   ]
  },
  {
   "cell_type": "code",
   "execution_count": 28,
   "metadata": {
    "id": "vN_Lpd8bDgEp",
    "outputId": "0d089cf5-3fd1-4840-d2aa-8698de412e70"
   },
   "outputs": [
    {
     "data": {
      "text/html": [
       "<div>\n",
       "<style scoped>\n",
       "    .dataframe tbody tr th:only-of-type {\n",
       "        vertical-align: middle;\n",
       "    }\n",
       "\n",
       "    .dataframe tbody tr th {\n",
       "        vertical-align: top;\n",
       "    }\n",
       "\n",
       "    .dataframe thead th {\n",
       "        text-align: right;\n",
       "    }\n",
       "</style>\n",
       "<table border=\"1\" class=\"dataframe\">\n",
       "  <thead>\n",
       "    <tr style=\"text-align: right;\">\n",
       "      <th></th>\n",
       "      <th>wine</th>\n",
       "      <th>alcohol</th>\n",
       "      <th>M_acid</th>\n",
       "      <th>Ash</th>\n",
       "      <th>AOA</th>\n",
       "      <th>Magnesium</th>\n",
       "      <th>total_phe</th>\n",
       "      <th>Flavanoids</th>\n",
       "      <th>NOP</th>\n",
       "      <th>Proanthocyanins</th>\n",
       "      <th>color_intensity</th>\n",
       "      <th>hu</th>\n",
       "      <th>DW</th>\n",
       "      <th>Proline</th>\n",
       "    </tr>\n",
       "  </thead>\n",
       "  <tbody>\n",
       "  </tbody>\n",
       "</table>\n",
       "</div>"
      ],
      "text/plain": [
       "Empty DataFrame\n",
       "Columns: [wine, alcohol, M_acid, Ash, AOA, Magnesium, total_phe, Flavanoids, NOP, Proanthocyanins, color_intensity, hu, DW, Proline]\n",
       "Index: []"
      ]
     },
     "execution_count": 28,
     "metadata": {},
     "output_type": "execute_result"
    }
   ],
   "source": [
    "data.loc[data['AOA']<lower_limit]#checking values which are less than minimum limit"
   ]
  },
  {
   "cell_type": "code",
   "execution_count": 29,
   "metadata": {
    "id": "xEG3FwyGDgEt"
   },
   "outputs": [],
   "source": [
    "data.loc[data['AOA']<lower_limit,'AOA']=np.median(data.AOA)#imputing value with median\n"
   ]
  },
  {
   "cell_type": "code",
   "execution_count": 30,
   "metadata": {
    "id": "b4j7aRhwDgEv",
    "outputId": "524dbf57-6e9e-44f2-d7fd-f015e5cd0f4d"
   },
   "outputs": [
    {
     "data": {
      "text/html": [
       "<div>\n",
       "<style scoped>\n",
       "    .dataframe tbody tr th:only-of-type {\n",
       "        vertical-align: middle;\n",
       "    }\n",
       "\n",
       "    .dataframe tbody tr th {\n",
       "        vertical-align: top;\n",
       "    }\n",
       "\n",
       "    .dataframe thead th {\n",
       "        text-align: right;\n",
       "    }\n",
       "</style>\n",
       "<table border=\"1\" class=\"dataframe\">\n",
       "  <thead>\n",
       "    <tr style=\"text-align: right;\">\n",
       "      <th></th>\n",
       "      <th>wine</th>\n",
       "      <th>alcohol</th>\n",
       "      <th>M_acid</th>\n",
       "      <th>Ash</th>\n",
       "      <th>AOA</th>\n",
       "      <th>Magnesium</th>\n",
       "      <th>total_phe</th>\n",
       "      <th>Flavanoids</th>\n",
       "      <th>NOP</th>\n",
       "      <th>Proanthocyanins</th>\n",
       "      <th>color_intensity</th>\n",
       "      <th>hu</th>\n",
       "      <th>DW</th>\n",
       "      <th>Proline</th>\n",
       "    </tr>\n",
       "  </thead>\n",
       "  <tbody>\n",
       "  </tbody>\n",
       "</table>\n",
       "</div>"
      ],
      "text/plain": [
       "Empty DataFrame\n",
       "Columns: [wine, alcohol, M_acid, Ash, AOA, Magnesium, total_phe, Flavanoids, NOP, Proanthocyanins, color_intensity, hu, DW, Proline]\n",
       "Index: []"
      ]
     },
     "execution_count": 30,
     "metadata": {},
     "output_type": "execute_result"
    }
   ],
   "source": [
    "data.loc[data['AOA']<lower_limit]"
   ]
  },
  {
   "cell_type": "code",
   "execution_count": 31,
   "metadata": {
    "id": "5Ukp5ZNLDgEw",
    "outputId": "a1a96680-9dbf-4987-8d06-84364fe080d9"
   },
   "outputs": [
    {
     "data": {
      "text/html": [
       "<div>\n",
       "<style scoped>\n",
       "    .dataframe tbody tr th:only-of-type {\n",
       "        vertical-align: middle;\n",
       "    }\n",
       "\n",
       "    .dataframe tbody tr th {\n",
       "        vertical-align: top;\n",
       "    }\n",
       "\n",
       "    .dataframe thead th {\n",
       "        text-align: right;\n",
       "    }\n",
       "</style>\n",
       "<table border=\"1\" class=\"dataframe\">\n",
       "  <thead>\n",
       "    <tr style=\"text-align: right;\">\n",
       "      <th></th>\n",
       "      <th>wine</th>\n",
       "      <th>alcohol</th>\n",
       "      <th>M_acid</th>\n",
       "      <th>Ash</th>\n",
       "      <th>AOA</th>\n",
       "      <th>Magnesium</th>\n",
       "      <th>total_phe</th>\n",
       "      <th>Flavanoids</th>\n",
       "      <th>NOP</th>\n",
       "      <th>Proanthocyanins</th>\n",
       "      <th>color_intensity</th>\n",
       "      <th>hu</th>\n",
       "      <th>DW</th>\n",
       "      <th>Proline</th>\n",
       "    </tr>\n",
       "  </thead>\n",
       "  <tbody>\n",
       "    <tr>\n",
       "      <th>73</th>\n",
       "      <td>2</td>\n",
       "      <td>12.99</td>\n",
       "      <td>1.67</td>\n",
       "      <td>2.6</td>\n",
       "      <td>30.0</td>\n",
       "      <td>139</td>\n",
       "      <td>3.3</td>\n",
       "      <td>2.89</td>\n",
       "      <td>0.21</td>\n",
       "      <td>1.96</td>\n",
       "      <td>3.35</td>\n",
       "      <td>1.31</td>\n",
       "      <td>3.5</td>\n",
       "      <td>985</td>\n",
       "    </tr>\n",
       "  </tbody>\n",
       "</table>\n",
       "</div>"
      ],
      "text/plain": [
       "    wine  alcohol  M_acid  Ash   AOA  Magnesium  total_phe  Flavanoids   NOP  \\\n",
       "73     2    12.99    1.67  2.6  30.0        139        3.3        2.89  0.21   \n",
       "\n",
       "    Proanthocyanins  color_intensity    hu   DW  Proline  \n",
       "73             1.96             3.35  1.31  3.5      985  "
      ]
     },
     "execution_count": 31,
     "metadata": {},
     "output_type": "execute_result"
    }
   ],
   "source": [
    "data.loc[data['AOA']>upper_limit]#checking values which are greater than maximum limit"
   ]
  },
  {
   "cell_type": "code",
   "execution_count": 32,
   "metadata": {
    "id": "gwk_fiJBDgEy"
   },
   "outputs": [],
   "source": [
    "data.loc[data['AOA']>upper_limit,'AOA']=np.mean(data.AOA)#imputing value with mean"
   ]
  },
  {
   "cell_type": "code",
   "execution_count": 33,
   "metadata": {
    "id": "F9dm9Dj4DgEy",
    "outputId": "ffb1125f-b564-4bdc-c78d-c7e241f0e2d6"
   },
   "outputs": [
    {
     "data": {
      "text/html": [
       "<div>\n",
       "<style scoped>\n",
       "    .dataframe tbody tr th:only-of-type {\n",
       "        vertical-align: middle;\n",
       "    }\n",
       "\n",
       "    .dataframe tbody tr th {\n",
       "        vertical-align: top;\n",
       "    }\n",
       "\n",
       "    .dataframe thead th {\n",
       "        text-align: right;\n",
       "    }\n",
       "</style>\n",
       "<table border=\"1\" class=\"dataframe\">\n",
       "  <thead>\n",
       "    <tr style=\"text-align: right;\">\n",
       "      <th></th>\n",
       "      <th>wine</th>\n",
       "      <th>alcohol</th>\n",
       "      <th>M_acid</th>\n",
       "      <th>Ash</th>\n",
       "      <th>AOA</th>\n",
       "      <th>Magnesium</th>\n",
       "      <th>total_phe</th>\n",
       "      <th>Flavanoids</th>\n",
       "      <th>NOP</th>\n",
       "      <th>Proanthocyanins</th>\n",
       "      <th>color_intensity</th>\n",
       "      <th>hu</th>\n",
       "      <th>DW</th>\n",
       "      <th>Proline</th>\n",
       "    </tr>\n",
       "  </thead>\n",
       "  <tbody>\n",
       "  </tbody>\n",
       "</table>\n",
       "</div>"
      ],
      "text/plain": [
       "Empty DataFrame\n",
       "Columns: [wine, alcohol, M_acid, Ash, AOA, Magnesium, total_phe, Flavanoids, NOP, Proanthocyanins, color_intensity, hu, DW, Proline]\n",
       "Index: []"
      ]
     },
     "execution_count": 33,
     "metadata": {},
     "output_type": "execute_result"
    }
   ],
   "source": [
    "data.loc[data['AOA']>upper_limit]"
   ]
  },
  {
   "cell_type": "code",
   "execution_count": 34,
   "metadata": {
    "id": "vFrNotF3DgEz",
    "outputId": "f9a6cf39-4c17-4a07-e236-5d8dc6de1e35"
   },
   "outputs": [
    {
     "name": "stderr",
     "output_type": "stream",
     "text": [
      "C:\\Users\\hp\\anaconda3\\lib\\site-packages\\seaborn\\_decorators.py:36: FutureWarning: Pass the following variable as a keyword arg: x. From version 0.12, the only valid positional argument will be `data`, and passing other arguments without an explicit keyword will result in an error or misinterpretation.\n",
      "  warnings.warn(\n"
     ]
    },
    {
     "data": {
      "image/png": "[encoded data removed]",
      "text/plain": [
       "<Figure size 432x288 with 1 Axes>"
      ]
     },
     "metadata": {
      "needs_background": "light"
     },
     "output_type": "display_data"
    }
   ],
   "source": [
    "sns.boxplot(data.AOA)\n",
    "plt.show()"
   ]
  },
  {
   "cell_type": "code",
   "execution_count": 35,
   "metadata": {
    "id": "Y7jK_EFQDgE1"
   },
   "outputs": [],
   "source": [
    "#### after removing outlier box plot shows a outlier not handle this type of outlier"
   ]
  },
  {
   "cell_type": "markdown",
   "metadata": {
    "id": "o_NJb-PVDgE1"
   },
   "source": [
    "# Magnesium is normal curve so using 3 sigma rule"
   ]
  },
  {
   "cell_type": "code",
   "execution_count": 36,
   "metadata": {
    "id": "_2u6V8BfDgE2",
    "outputId": "e6f86cb1-2949-4495-d612-4bd3dba2173e"
   },
   "outputs": [
    {
     "name": "stdout",
     "output_type": "stream",
     "text": [
      "56.89412248782086\n"
     ]
    },
    {
     "data": {
      "text/plain": [
       "142.58902357959488"
      ]
     },
     "execution_count": 36,
     "metadata": {},
     "output_type": "execute_result"
    }
   ],
   "source": [
    "lower_limit=data.Magnesium.mean() - 3*data.Magnesium.std()#calculating lower limit\n",
    "print(lower_limit)\n",
    "\n",
    "upper_limit=data.Magnesium.mean() + 3*data.Magnesium.std()#calculating upper limit\n",
    "upper_limit"
   ]
  },
  {
   "cell_type": "code",
   "execution_count": 37,
   "metadata": {
    "id": "6-tT68Y_DgE4",
    "outputId": "ce9e38cc-93f4-4a0a-832f-116c23d4f2c3"
   },
   "outputs": [
    {
     "data": {
      "text/html": [
       "<div>\n",
       "<style scoped>\n",
       "    .dataframe tbody tr th:only-of-type {\n",
       "        vertical-align: middle;\n",
       "    }\n",
       "\n",
       "    .dataframe tbody tr th {\n",
       "        vertical-align: top;\n",
       "    }\n",
       "\n",
       "    .dataframe thead th {\n",
       "        text-align: right;\n",
       "    }\n",
       "</style>\n",
       "<table border=\"1\" class=\"dataframe\">\n",
       "  <thead>\n",
       "    <tr style=\"text-align: right;\">\n",
       "      <th></th>\n",
       "      <th>wine</th>\n",
       "      <th>alcohol</th>\n",
       "      <th>M_acid</th>\n",
       "      <th>Ash</th>\n",
       "      <th>AOA</th>\n",
       "      <th>Magnesium</th>\n",
       "      <th>total_phe</th>\n",
       "      <th>Flavanoids</th>\n",
       "      <th>NOP</th>\n",
       "      <th>Proanthocyanins</th>\n",
       "      <th>color_intensity</th>\n",
       "      <th>hu</th>\n",
       "      <th>DW</th>\n",
       "      <th>Proline</th>\n",
       "    </tr>\n",
       "  </thead>\n",
       "  <tbody>\n",
       "  </tbody>\n",
       "</table>\n",
       "</div>"
      ],
      "text/plain": [
       "Empty DataFrame\n",
       "Columns: [wine, alcohol, M_acid, Ash, AOA, Magnesium, total_phe, Flavanoids, NOP, Proanthocyanins, color_intensity, hu, DW, Proline]\n",
       "Index: []"
      ]
     },
     "execution_count": 37,
     "metadata": {},
     "output_type": "execute_result"
    }
   ],
   "source": [
    "data.loc[data['Magnesium']<lower_limit]#checking values which are less than minimum limit"
   ]
  },
  {
   "cell_type": "code",
   "execution_count": 38,
   "metadata": {
    "id": "9guia653DgE6",
    "outputId": "5d399eed-d221-480e-a7b5-5407c4d9a85e"
   },
   "outputs": [
    {
     "data": {
      "text/html": [
       "<div>\n",
       "<style scoped>\n",
       "    .dataframe tbody tr th:only-of-type {\n",
       "        vertical-align: middle;\n",
       "    }\n",
       "\n",
       "    .dataframe tbody tr th {\n",
       "        vertical-align: top;\n",
       "    }\n",
       "\n",
       "    .dataframe thead th {\n",
       "        text-align: right;\n",
       "    }\n",
       "</style>\n",
       "<table border=\"1\" class=\"dataframe\">\n",
       "  <thead>\n",
       "    <tr style=\"text-align: right;\">\n",
       "      <th></th>\n",
       "      <th>wine</th>\n",
       "      <th>alcohol</th>\n",
       "      <th>M_acid</th>\n",
       "      <th>Ash</th>\n",
       "      <th>AOA</th>\n",
       "      <th>Magnesium</th>\n",
       "      <th>total_phe</th>\n",
       "      <th>Flavanoids</th>\n",
       "      <th>NOP</th>\n",
       "      <th>Proanthocyanins</th>\n",
       "      <th>color_intensity</th>\n",
       "      <th>hu</th>\n",
       "      <th>DW</th>\n",
       "      <th>Proline</th>\n",
       "    </tr>\n",
       "  </thead>\n",
       "  <tbody>\n",
       "    <tr>\n",
       "      <th>69</th>\n",
       "      <td>2</td>\n",
       "      <td>12.21</td>\n",
       "      <td>1.19</td>\n",
       "      <td>1.75</td>\n",
       "      <td>16.8</td>\n",
       "      <td>151</td>\n",
       "      <td>1.85</td>\n",
       "      <td>1.28</td>\n",
       "      <td>0.14</td>\n",
       "      <td>2.50</td>\n",
       "      <td>2.85</td>\n",
       "      <td>1.28</td>\n",
       "      <td>3.07</td>\n",
       "      <td>718</td>\n",
       "    </tr>\n",
       "    <tr>\n",
       "      <th>95</th>\n",
       "      <td>2</td>\n",
       "      <td>12.47</td>\n",
       "      <td>1.52</td>\n",
       "      <td>2.20</td>\n",
       "      <td>19.0</td>\n",
       "      <td>162</td>\n",
       "      <td>2.50</td>\n",
       "      <td>2.27</td>\n",
       "      <td>0.32</td>\n",
       "      <td>3.28</td>\n",
       "      <td>2.60</td>\n",
       "      <td>1.16</td>\n",
       "      <td>2.63</td>\n",
       "      <td>937</td>\n",
       "    </tr>\n",
       "  </tbody>\n",
       "</table>\n",
       "</div>"
      ],
      "text/plain": [
       "    wine  alcohol  M_acid   Ash   AOA  Magnesium  total_phe  Flavanoids   NOP  \\\n",
       "69     2    12.21    1.19  1.75  16.8        151       1.85        1.28  0.14   \n",
       "95     2    12.47    1.52  2.20  19.0        162       2.50        2.27  0.32   \n",
       "\n",
       "    Proanthocyanins  color_intensity    hu    DW  Proline  \n",
       "69             2.50             2.85  1.28  3.07      718  \n",
       "95             3.28             2.60  1.16  2.63      937  "
      ]
     },
     "execution_count": 38,
     "metadata": {},
     "output_type": "execute_result"
    }
   ],
   "source": [
    "data.loc[data['Magnesium']>upper_limit]#checking values which are  greater than maximum limit"
   ]
  },
  {
   "cell_type": "code",
   "execution_count": 39,
   "metadata": {
    "id": "-reP9_yHDgE9"
   },
   "outputs": [],
   "source": [
    "data.loc[data['Magnesium']>upper_limit,'Magnesium']=np.mean(data.Magnesium)#imputing values using mean"
   ]
  },
  {
   "cell_type": "code",
   "execution_count": 40,
   "metadata": {
    "id": "HJdC9TIVDgE-",
    "outputId": "4a899667-1088-4141-f56f-befc15f29026"
   },
   "outputs": [
    {
     "data": {
      "text/html": [
       "<div>\n",
       "<style scoped>\n",
       "    .dataframe tbody tr th:only-of-type {\n",
       "        vertical-align: middle;\n",
       "    }\n",
       "\n",
       "    .dataframe tbody tr th {\n",
       "        vertical-align: top;\n",
       "    }\n",
       "\n",
       "    .dataframe thead th {\n",
       "        text-align: right;\n",
       "    }\n",
       "</style>\n",
       "<table border=\"1\" class=\"dataframe\">\n",
       "  <thead>\n",
       "    <tr style=\"text-align: right;\">\n",
       "      <th></th>\n",
       "      <th>wine</th>\n",
       "      <th>alcohol</th>\n",
       "      <th>M_acid</th>\n",
       "      <th>Ash</th>\n",
       "      <th>AOA</th>\n",
       "      <th>Magnesium</th>\n",
       "      <th>total_phe</th>\n",
       "      <th>Flavanoids</th>\n",
       "      <th>NOP</th>\n",
       "      <th>Proanthocyanins</th>\n",
       "      <th>color_intensity</th>\n",
       "      <th>hu</th>\n",
       "      <th>DW</th>\n",
       "      <th>Proline</th>\n",
       "    </tr>\n",
       "  </thead>\n",
       "  <tbody>\n",
       "  </tbody>\n",
       "</table>\n",
       "</div>"
      ],
      "text/plain": [
       "Empty DataFrame\n",
       "Columns: [wine, alcohol, M_acid, Ash, AOA, Magnesium, total_phe, Flavanoids, NOP, Proanthocyanins, color_intensity, hu, DW, Proline]\n",
       "Index: []"
      ]
     },
     "execution_count": 40,
     "metadata": {},
     "output_type": "execute_result"
    }
   ],
   "source": [
    "data.loc[data['Magnesium']>upper_limit]"
   ]
  },
  {
   "cell_type": "code",
   "execution_count": 41,
   "metadata": {},
   "outputs": [
    {
     "data": {
      "text/plain": [
       "<AxesSubplot:xlabel='wine', ylabel='count'>"
      ]
     },
     "execution_count": 41,
     "metadata": {},
     "output_type": "execute_result"
    },
    {
     "data": {
      "image/png": "[encoded data removed]",
      "text/plain": [
       "<Figure size 432x288 with 1 Axes>"
      ]
     },
     "metadata": {
      "needs_background": "light"
     },
     "output_type": "display_data"
    }
   ],
   "source": [
    "# Checking the balance of data.\n",
    "sns.countplot(x='wine',data=data)"
   ]
  },
  {
   "cell_type": "markdown",
   "metadata": {
    "id": "7UcIyTYtDgE_"
   },
   "source": [
    "### Feature Selection"
   ]
  },
  {
   "cell_type": "code",
   "execution_count": null,
   "metadata": {},
   "outputs": [],
   "source": [
    "# Remove the constant and redundant features.\n",
    "data.describe()"
   ]
  },
  {
   "cell_type": "code",
   "execution_count": null,
   "metadata": {
    "id": "zuPoW4vMDgFA"
   },
   "outputs": [],
   "source": [
    "## Checking correlation\n",
    "\n",
    "plt.figure(figsize=(30, 30))#canvas size\n",
    "sns.heatmap(box.corr(), annot=True, cmap=\"RdYlGn\", annot_kws={\"size\":15})#plotting heat map to check correlation"
   ]
  },
  {
   "cell_type": "markdown",
   "metadata": {
    "id": "SYiDjznWCcPq"
   },
   "source": [
    "### MODEL CREATION\n"
   ]
  },
  {
   "cell_type": "code",
   "execution_count": 42,
   "metadata": {
    "id": "3Y97Tb12BOWy"
   },
   "outputs": [],
   "source": [
    "# Step:1 Creating independent and dependent variable\n",
    "X=data.iloc[:,1:]\n",
    "y=data.wine"
   ]
  },
  {
   "cell_type": "code",
   "execution_count": 44,
   "metadata": {
    "id": "6RwvQ7LiBOWy"
   },
   "outputs": [],
   "source": [
    "# Step:2 creating train and test data\n",
    "from sklearn.model_selection import train_test_split\n",
    "X_train,X_test,y_train,y_test=train_test_split(X,y,test_size=0.25,random_state=42)\n",
    "\n",
    "# Step:3 KNN object creation\n",
    "from sklearn.neighbors import KNeighborsClassifier\n",
    "knn = KNeighborsClassifier()\n",
    "\n",
    "# Step:4 Fitting the training data\n",
    "knn.fit(X_train,y_train)\n",
    "\n",
    "# Step:5 Prediction on test data\n",
    "y_hatknn = knn.predict(X_test)"
   ]
  },
  {
   "cell_type": "markdown",
   "metadata": {},
   "source": [
    "### EVALUATION"
   ]
  },
  {
   "cell_type": "code",
   "execution_count": 48,
   "metadata": {},
   "outputs": [
    {
     "name": "stdout",
     "output_type": "stream",
     "text": [
      "F1 Score: 0.7111111111111111\n",
      "              precision    recall  f1-score   support\n",
      "\n",
      "           1       0.87      0.87      0.87        15\n",
      "           2       0.72      0.72      0.72        18\n",
      "           3       0.50      0.50      0.50        12\n",
      "\n",
      "    accuracy                           0.71        45\n",
      "   macro avg       0.70      0.70      0.70        45\n",
      "weighted avg       0.71      0.71      0.71        45\n",
      "\n"
     ]
    }
   ],
   "source": [
    "from sklearn.metrics import classification_report,f1_score\n",
    "f1 = f1_score(y_test,y_hatknn,average='weighted')\n",
    "print(\"F1 Score:\",f1)\n",
    "print(classification_report(y_test,y_hatknn))"
   ]
  },
  {
   "cell_type": "markdown",
   "metadata": {
    "id": "ph2AjOscBOW0"
   },
   "source": [
    "### USE BAGGING ON KNN MODEL\n"
   ]
  },
  {
   "cell_type": "code",
   "execution_count": 49,
   "metadata": {},
   "outputs": [],
   "source": [
    "# Step:1 Create a knn object\n",
    "knn1 = KNeighborsClassifier()\n",
    "\n",
    "# Step:2 importing the library and create a bagging object \n",
    "from sklearn.ensemble import BaggingClassifier\n",
    "bagg = BaggingClassifier(base_estimator=knn1,n_estimators=50) \n",
    "#base_estimator---> algorithm which you want to pass\n",
    "#n_estimotors-----> number of base learners\n",
    "\n",
    "# Step:3 Fitting the training data\n",
    "bagg.fit(X_train,y_train)\n",
    "\n",
    "\n",
    "# Step:4 Prediction on test data\n",
    "predict = bagg.predict(X_test)"
   ]
  },
  {
   "cell_type": "markdown",
   "metadata": {},
   "source": [
    "### EVALUATION"
   ]
  },
  {
   "cell_type": "code",
   "execution_count": 52,
   "metadata": {},
   "outputs": [
    {
     "data": {
      "text/plain": [
       "0.7353650793650792"
      ]
     },
     "execution_count": 52,
     "metadata": {},
     "output_type": "execute_result"
    }
   ],
   "source": [
    "f1score = f1_score(y_test,predict,average='weighted')\n",
    "f1score # Score after bagging"
   ]
  },
  {
   "cell_type": "code",
   "execution_count": null,
   "metadata": {},
   "outputs": [],
   "source": [
    "### to get best n_estimator use hyper parameter tunning"
   ]
  },
  {
   "cell_type": "code",
   "execution_count": null,
   "metadata": {},
   "outputs": [],
   "source": []
  }
 ],
 "metadata": {
  "colab": {
   "collapsed_sections": [],
   "name": "Bagging.ipynb",
   "provenance": []
  },
  "kernelspec": {
   "display_name": "Python 3 (ipykernel)",
   "language": "python",
   "name": "python3"
  },
  "language_info": {
   "codemirror_mode": {
    "name": "ipython",
    "version": 3
   },
   "file_extension": ".py",
   "mimetype": "text/x-python",
   "name": "python",
   "nbconvert_exporter": "python",
   "pygments_lexer": "ipython3",
   "version": "3.9.7"
  }
 },
 "nbformat": 4,
 "nbformat_minor": 1
}
