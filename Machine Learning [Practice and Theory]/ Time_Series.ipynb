{
 "cells": [
  {
   "cell_type": "markdown",
   "id": "a81e19cb",
   "metadata": {},
   "source": [
    "## Buisness case: We Need To Forcast No of Passenger In 1961-1 Month"
   ]
  },
  {
   "cell_type": "code",
   "execution_count": 1,
   "id": "ddcb0f65",
   "metadata": {},
   "outputs": [],
   "source": [
    "### Importing the library\n",
    "import pandas as pd\n",
    "import numpy as np\n",
    "import warnings\n",
    "warnings.filterwarnings('ignore')\n",
    "import matplotlib.pyplot as plt\n",
    "%matplotlib inline\n",
    "import seaborn as sns"
   ]
  },
  {
   "cell_type": "code",
   "execution_count": 2,
   "id": "5e94bdb2",
   "metadata": {},
   "outputs": [],
   "source": [
    "## Loa data\n",
    "data = pd.read_csv('AirPassengers.csv')"
   ]
  },
  {
   "cell_type": "code",
   "execution_count": 3,
   "id": "1cebdb79",
   "metadata": {},
   "outputs": [
    {
     "data": {
      "text/html": [
       "<div>\n",
       "<style scoped>\n",
       "    .dataframe tbody tr th:only-of-type {\n",
       "        vertical-align: middle;\n",
       "    }\n",
       "\n",
       "    .dataframe tbody tr th {\n",
       "        vertical-align: top;\n",
       "    }\n",
       "\n",
       "    .dataframe thead th {\n",
       "        text-align: right;\n",
       "    }\n",
       "</style>\n",
       "<table border=\"1\" class=\"dataframe\">\n",
       "  <thead>\n",
       "    <tr style=\"text-align: right;\">\n",
       "      <th></th>\n",
       "      <th>Month</th>\n",
       "      <th>#Passengers</th>\n",
       "    </tr>\n",
       "  </thead>\n",
       "  <tbody>\n",
       "    <tr>\n",
       "      <th>0</th>\n",
       "      <td>1949-01</td>\n",
       "      <td>112</td>\n",
       "    </tr>\n",
       "    <tr>\n",
       "      <th>1</th>\n",
       "      <td>1949-02</td>\n",
       "      <td>118</td>\n",
       "    </tr>\n",
       "    <tr>\n",
       "      <th>2</th>\n",
       "      <td>1949-03</td>\n",
       "      <td>132</td>\n",
       "    </tr>\n",
       "    <tr>\n",
       "      <th>3</th>\n",
       "      <td>1949-04</td>\n",
       "      <td>129</td>\n",
       "    </tr>\n",
       "    <tr>\n",
       "      <th>4</th>\n",
       "      <td>1949-05</td>\n",
       "      <td>121</td>\n",
       "    </tr>\n",
       "  </tbody>\n",
       "</table>\n",
       "</div>"
      ],
      "text/plain": [
       "     Month  #Passengers\n",
       "0  1949-01          112\n",
       "1  1949-02          118\n",
       "2  1949-03          132\n",
       "3  1949-04          129\n",
       "4  1949-05          121"
      ]
     },
     "execution_count": 3,
     "metadata": {},
     "output_type": "execute_result"
    }
   ],
   "source": [
    "## Basic Checks\n",
    "data.head()"
   ]
  },
  {
   "cell_type": "code",
   "execution_count": 4,
   "id": "7f25f354",
   "metadata": {},
   "outputs": [
    {
     "data": {
      "text/html": [
       "<div>\n",
       "<style scoped>\n",
       "    .dataframe tbody tr th:only-of-type {\n",
       "        vertical-align: middle;\n",
       "    }\n",
       "\n",
       "    .dataframe tbody tr th {\n",
       "        vertical-align: top;\n",
       "    }\n",
       "\n",
       "    .dataframe thead th {\n",
       "        text-align: right;\n",
       "    }\n",
       "</style>\n",
       "<table border=\"1\" class=\"dataframe\">\n",
       "  <thead>\n",
       "    <tr style=\"text-align: right;\">\n",
       "      <th></th>\n",
       "      <th>Month</th>\n",
       "      <th>#Passengers</th>\n",
       "    </tr>\n",
       "  </thead>\n",
       "  <tbody>\n",
       "    <tr>\n",
       "      <th>139</th>\n",
       "      <td>1960-08</td>\n",
       "      <td>606</td>\n",
       "    </tr>\n",
       "    <tr>\n",
       "      <th>140</th>\n",
       "      <td>1960-09</td>\n",
       "      <td>508</td>\n",
       "    </tr>\n",
       "    <tr>\n",
       "      <th>141</th>\n",
       "      <td>1960-10</td>\n",
       "      <td>461</td>\n",
       "    </tr>\n",
       "    <tr>\n",
       "      <th>142</th>\n",
       "      <td>1960-11</td>\n",
       "      <td>390</td>\n",
       "    </tr>\n",
       "    <tr>\n",
       "      <th>143</th>\n",
       "      <td>1960-12</td>\n",
       "      <td>432</td>\n",
       "    </tr>\n",
       "  </tbody>\n",
       "</table>\n",
       "</div>"
      ],
      "text/plain": [
       "       Month  #Passengers\n",
       "139  1960-08          606\n",
       "140  1960-09          508\n",
       "141  1960-10          461\n",
       "142  1960-11          390\n",
       "143  1960-12          432"
      ]
     },
     "execution_count": 4,
     "metadata": {},
     "output_type": "execute_result"
    }
   ],
   "source": [
    "data.tail()"
   ]
  },
  {
   "cell_type": "code",
   "execution_count": 5,
   "id": "8863143c",
   "metadata": {},
   "outputs": [
    {
     "data": {
      "text/plain": [
       "(144, 2)"
      ]
     },
     "execution_count": 5,
     "metadata": {},
     "output_type": "execute_result"
    }
   ],
   "source": [
    "data.shape"
   ]
  },
  {
   "cell_type": "code",
   "execution_count": 6,
   "id": "2a9a5221",
   "metadata": {},
   "outputs": [
    {
     "data": {
      "text/plain": [
       "Index(['Month', '#Passengers'], dtype='object')"
      ]
     },
     "execution_count": 6,
     "metadata": {},
     "output_type": "execute_result"
    }
   ],
   "source": [
    "data.columns"
   ]
  },
  {
   "cell_type": "code",
   "execution_count": 7,
   "id": "c7358f38",
   "metadata": {},
   "outputs": [
    {
     "name": "stdout",
     "output_type": "stream",
     "text": [
      "<class 'pandas.core.frame.DataFrame'>\n",
      "RangeIndex: 144 entries, 0 to 143\n",
      "Data columns (total 2 columns):\n",
      " #   Column       Non-Null Count  Dtype \n",
      "---  ------       --------------  ----- \n",
      " 0   Month        144 non-null    object\n",
      " 1   #Passengers  144 non-null    int64 \n",
      "dtypes: int64(1), object(1)\n",
      "memory usage: 2.4+ KB\n"
     ]
    }
   ],
   "source": [
    "## Examint the data\n",
    "data.info()"
   ]
  },
  {
   "cell_type": "code",
   "execution_count": 8,
   "id": "3e7477cb",
   "metadata": {},
   "outputs": [
    {
     "data": {
      "text/html": [
       "<div>\n",
       "<style scoped>\n",
       "    .dataframe tbody tr th:only-of-type {\n",
       "        vertical-align: middle;\n",
       "    }\n",
       "\n",
       "    .dataframe tbody tr th {\n",
       "        vertical-align: top;\n",
       "    }\n",
       "\n",
       "    .dataframe thead th {\n",
       "        text-align: right;\n",
       "    }\n",
       "</style>\n",
       "<table border=\"1\" class=\"dataframe\">\n",
       "  <thead>\n",
       "    <tr style=\"text-align: right;\">\n",
       "      <th></th>\n",
       "      <th>#Passengers</th>\n",
       "    </tr>\n",
       "  </thead>\n",
       "  <tbody>\n",
       "    <tr>\n",
       "      <th>count</th>\n",
       "      <td>144.000000</td>\n",
       "    </tr>\n",
       "    <tr>\n",
       "      <th>mean</th>\n",
       "      <td>280.298611</td>\n",
       "    </tr>\n",
       "    <tr>\n",
       "      <th>std</th>\n",
       "      <td>119.966317</td>\n",
       "    </tr>\n",
       "    <tr>\n",
       "      <th>min</th>\n",
       "      <td>104.000000</td>\n",
       "    </tr>\n",
       "    <tr>\n",
       "      <th>25%</th>\n",
       "      <td>180.000000</td>\n",
       "    </tr>\n",
       "    <tr>\n",
       "      <th>50%</th>\n",
       "      <td>265.500000</td>\n",
       "    </tr>\n",
       "    <tr>\n",
       "      <th>75%</th>\n",
       "      <td>360.500000</td>\n",
       "    </tr>\n",
       "    <tr>\n",
       "      <th>max</th>\n",
       "      <td>622.000000</td>\n",
       "    </tr>\n",
       "  </tbody>\n",
       "</table>\n",
       "</div>"
      ],
      "text/plain": [
       "       #Passengers\n",
       "count   144.000000\n",
       "mean    280.298611\n",
       "std     119.966317\n",
       "min     104.000000\n",
       "25%     180.000000\n",
       "50%     265.500000\n",
       "75%     360.500000\n",
       "max     622.000000"
      ]
     },
     "execution_count": 8,
     "metadata": {},
     "output_type": "execute_result"
    }
   ],
   "source": [
    "data.describe()"
   ]
  },
  {
   "cell_type": "code",
   "execution_count": 11,
   "id": "3457fef0",
   "metadata": {},
   "outputs": [],
   "source": [
    "### Parsing the data and using date column as a index\n",
    "data = pd.read_csv('AirPassengers.csv',parse_dates=[0],index_col='Month')\n",
    "## parsing_dates used for convert datatype into date time and 0 is column locqation\n",
    "## index_col used for set column as index"
   ]
  },
  {
   "cell_type": "code",
   "execution_count": 12,
   "id": "14e7e6ba",
   "metadata": {},
   "outputs": [
    {
     "data": {
      "text/html": [
       "<div>\n",
       "<style scoped>\n",
       "    .dataframe tbody tr th:only-of-type {\n",
       "        vertical-align: middle;\n",
       "    }\n",
       "\n",
       "    .dataframe tbody tr th {\n",
       "        vertical-align: top;\n",
       "    }\n",
       "\n",
       "    .dataframe thead th {\n",
       "        text-align: right;\n",
       "    }\n",
       "</style>\n",
       "<table border=\"1\" class=\"dataframe\">\n",
       "  <thead>\n",
       "    <tr style=\"text-align: right;\">\n",
       "      <th></th>\n",
       "      <th>#Passengers</th>\n",
       "    </tr>\n",
       "    <tr>\n",
       "      <th>Month</th>\n",
       "      <th></th>\n",
       "    </tr>\n",
       "  </thead>\n",
       "  <tbody>\n",
       "    <tr>\n",
       "      <th>1949-01-01</th>\n",
       "      <td>112</td>\n",
       "    </tr>\n",
       "    <tr>\n",
       "      <th>1949-02-01</th>\n",
       "      <td>118</td>\n",
       "    </tr>\n",
       "    <tr>\n",
       "      <th>1949-03-01</th>\n",
       "      <td>132</td>\n",
       "    </tr>\n",
       "    <tr>\n",
       "      <th>1949-04-01</th>\n",
       "      <td>129</td>\n",
       "    </tr>\n",
       "    <tr>\n",
       "      <th>1949-05-01</th>\n",
       "      <td>121</td>\n",
       "    </tr>\n",
       "  </tbody>\n",
       "</table>\n",
       "</div>"
      ],
      "text/plain": [
       "            #Passengers\n",
       "Month                  \n",
       "1949-01-01          112\n",
       "1949-02-01          118\n",
       "1949-03-01          132\n",
       "1949-04-01          129\n",
       "1949-05-01          121"
      ]
     },
     "execution_count": 12,
     "metadata": {},
     "output_type": "execute_result"
    }
   ],
   "source": [
    "data.head()"
   ]
  },
  {
   "cell_type": "markdown",
   "id": "8b7acc6f",
   "metadata": {},
   "source": [
    "## EDA"
   ]
  },
  {
   "cell_type": "code",
   "execution_count": 14,
   "id": "2c1f4301",
   "metadata": {},
   "outputs": [
    {
     "data": {
      "image/png": "[encoded data removed]",
      "text/plain": [
       "<Figure size 720x360 with 1 Axes>"
      ]
     },
     "metadata": {},
     "output_type": "display_data"
    }
   ],
   "source": [
    "plt.figure(figsize=(10,5),facecolor='white')\n",
    "plt.plot(data)\n",
    "plt.tight_layout()"
   ]
  },
  {
   "cell_type": "markdown",
   "id": "fe40d0ac",
   "metadata": {},
   "source": [
    "* Increses trend in no of passenger"
   ]
  },
  {
   "cell_type": "code",
   "execution_count": 18,
   "id": "ccd910c3",
   "metadata": {},
   "outputs": [
    {
     "data": {
      "image/png": "[encoded data removed]",
      "text/plain": [
       "<Figure size 432x288 with 1 Axes>"
      ]
     },
     "metadata": {
      "needs_background": "light"
     },
     "output_type": "display_data"
    }
   ],
   "source": [
    "### Anothe way to plot\n",
    "data.plot(color='orange')\n",
    "plt.show()"
   ]
  },
  {
   "cell_type": "markdown",
   "id": "1c2905cd",
   "metadata": {},
   "source": [
    "## Model Creation \n",
    "### AR(Dont use this model)"
   ]
  },
  {
   "cell_type": "code",
   "execution_count": 19,
   "id": "3b527655",
   "metadata": {},
   "outputs": [],
   "source": [
    "### Plotting the auto Correlation plot\n",
    "from statsmodels.graphics.tsaplots import plot_acf"
   ]
  },
  {
   "cell_type": "code",
   "execution_count": 24,
   "id": "d8ac5514",
   "metadata": {},
   "outputs": [
    {
     "data": {
      "image/png": "[encoded data removed]",
      "text/plain": [
       "<Figure size 432x288 with 1 Axes>"
      ]
     },
     "metadata": {
      "needs_background": "light"
     },
     "output_type": "display_data"
    }
   ],
   "source": [
    "plot_acf(data)\n",
    "plt.show()"
   ]
  },
  {
   "cell_type": "markdown",
   "id": "0fad210c",
   "metadata": {},
   "source": [
    "* From auto corrleation plot it is clear that the given series is non- stationary"
   ]
  },
  {
   "cell_type": "code",
   "execution_count": 25,
   "id": "be4fd396",
   "metadata": {},
   "outputs": [],
   "source": [
    "### making stationary by taking difference of 1\n",
    "data1 = data.diff(periods=1)  ### diff --------> used difference function \n",
    "### this means calcilating the change in your rows(s)/column(s) over set numbers of periods or simpliy ,\n",
    "# pandas diff will be subtract 1 cell value from another cell value within the same index"
   ]
  },
  {
   "cell_type": "code",
   "execution_count": 26,
   "id": "6ff6fc87",
   "metadata": {},
   "outputs": [
    {
     "data": {
      "text/html": [
       "<div>\n",
       "<style scoped>\n",
       "    .dataframe tbody tr th:only-of-type {\n",
       "        vertical-align: middle;\n",
       "    }\n",
       "\n",
       "    .dataframe tbody tr th {\n",
       "        vertical-align: top;\n",
       "    }\n",
       "\n",
       "    .dataframe thead th {\n",
       "        text-align: right;\n",
       "    }\n",
       "</style>\n",
       "<table border=\"1\" class=\"dataframe\">\n",
       "  <thead>\n",
       "    <tr style=\"text-align: right;\">\n",
       "      <th></th>\n",
       "      <th>#Passengers</th>\n",
       "    </tr>\n",
       "    <tr>\n",
       "      <th>Month</th>\n",
       "      <th></th>\n",
       "    </tr>\n",
       "  </thead>\n",
       "  <tbody>\n",
       "    <tr>\n",
       "      <th>1949-01-01</th>\n",
       "      <td>NaN</td>\n",
       "    </tr>\n",
       "    <tr>\n",
       "      <th>1949-02-01</th>\n",
       "      <td>6.0</td>\n",
       "    </tr>\n",
       "    <tr>\n",
       "      <th>1949-03-01</th>\n",
       "      <td>14.0</td>\n",
       "    </tr>\n",
       "    <tr>\n",
       "      <th>1949-04-01</th>\n",
       "      <td>-3.0</td>\n",
       "    </tr>\n",
       "    <tr>\n",
       "      <th>1949-05-01</th>\n",
       "      <td>-8.0</td>\n",
       "    </tr>\n",
       "    <tr>\n",
       "      <th>...</th>\n",
       "      <td>...</td>\n",
       "    </tr>\n",
       "    <tr>\n",
       "      <th>1960-08-01</th>\n",
       "      <td>-16.0</td>\n",
       "    </tr>\n",
       "    <tr>\n",
       "      <th>1960-09-01</th>\n",
       "      <td>-98.0</td>\n",
       "    </tr>\n",
       "    <tr>\n",
       "      <th>1960-10-01</th>\n",
       "      <td>-47.0</td>\n",
       "    </tr>\n",
       "    <tr>\n",
       "      <th>1960-11-01</th>\n",
       "      <td>-71.0</td>\n",
       "    </tr>\n",
       "    <tr>\n",
       "      <th>1960-12-01</th>\n",
       "      <td>42.0</td>\n",
       "    </tr>\n",
       "  </tbody>\n",
       "</table>\n",
       "<p>144 rows × 1 columns</p>\n",
       "</div>"
      ],
      "text/plain": [
       "            #Passengers\n",
       "Month                  \n",
       "1949-01-01          NaN\n",
       "1949-02-01          6.0\n",
       "1949-03-01         14.0\n",
       "1949-04-01         -3.0\n",
       "1949-05-01         -8.0\n",
       "...                 ...\n",
       "1960-08-01        -16.0\n",
       "1960-09-01        -98.0\n",
       "1960-10-01        -47.0\n",
       "1960-11-01        -71.0\n",
       "1960-12-01         42.0\n",
       "\n",
       "[144 rows x 1 columns]"
      ]
     },
     "execution_count": 26,
     "metadata": {},
     "output_type": "execute_result"
    }
   ],
   "source": [
    "data1  # loding the data"
   ]
  },
  {
   "cell_type": "code",
   "execution_count": 27,
   "id": "dc776b36",
   "metadata": {},
   "outputs": [],
   "source": [
    "data1 = data1.iloc[1:]  # columns from one to end"
   ]
  },
  {
   "cell_type": "code",
   "execution_count": 28,
   "id": "bc3b3e84",
   "metadata": {},
   "outputs": [
    {
     "data": {
      "text/html": [
       "<div>\n",
       "<style scoped>\n",
       "    .dataframe tbody tr th:only-of-type {\n",
       "        vertical-align: middle;\n",
       "    }\n",
       "\n",
       "    .dataframe tbody tr th {\n",
       "        vertical-align: top;\n",
       "    }\n",
       "\n",
       "    .dataframe thead th {\n",
       "        text-align: right;\n",
       "    }\n",
       "</style>\n",
       "<table border=\"1\" class=\"dataframe\">\n",
       "  <thead>\n",
       "    <tr style=\"text-align: right;\">\n",
       "      <th></th>\n",
       "      <th>#Passengers</th>\n",
       "    </tr>\n",
       "    <tr>\n",
       "      <th>Month</th>\n",
       "      <th></th>\n",
       "    </tr>\n",
       "  </thead>\n",
       "  <tbody>\n",
       "    <tr>\n",
       "      <th>1949-02-01</th>\n",
       "      <td>6.0</td>\n",
       "    </tr>\n",
       "    <tr>\n",
       "      <th>1949-03-01</th>\n",
       "      <td>14.0</td>\n",
       "    </tr>\n",
       "    <tr>\n",
       "      <th>1949-04-01</th>\n",
       "      <td>-3.0</td>\n",
       "    </tr>\n",
       "    <tr>\n",
       "      <th>1949-05-01</th>\n",
       "      <td>-8.0</td>\n",
       "    </tr>\n",
       "    <tr>\n",
       "      <th>1949-06-01</th>\n",
       "      <td>14.0</td>\n",
       "    </tr>\n",
       "    <tr>\n",
       "      <th>...</th>\n",
       "      <td>...</td>\n",
       "    </tr>\n",
       "    <tr>\n",
       "      <th>1960-08-01</th>\n",
       "      <td>-16.0</td>\n",
       "    </tr>\n",
       "    <tr>\n",
       "      <th>1960-09-01</th>\n",
       "      <td>-98.0</td>\n",
       "    </tr>\n",
       "    <tr>\n",
       "      <th>1960-10-01</th>\n",
       "      <td>-47.0</td>\n",
       "    </tr>\n",
       "    <tr>\n",
       "      <th>1960-11-01</th>\n",
       "      <td>-71.0</td>\n",
       "    </tr>\n",
       "    <tr>\n",
       "      <th>1960-12-01</th>\n",
       "      <td>42.0</td>\n",
       "    </tr>\n",
       "  </tbody>\n",
       "</table>\n",
       "<p>143 rows × 1 columns</p>\n",
       "</div>"
      ],
      "text/plain": [
       "            #Passengers\n",
       "Month                  \n",
       "1949-02-01          6.0\n",
       "1949-03-01         14.0\n",
       "1949-04-01         -3.0\n",
       "1949-05-01         -8.0\n",
       "1949-06-01         14.0\n",
       "...                 ...\n",
       "1960-08-01        -16.0\n",
       "1960-09-01        -98.0\n",
       "1960-10-01        -47.0\n",
       "1960-11-01        -71.0\n",
       "1960-12-01         42.0\n",
       "\n",
       "[143 rows x 1 columns]"
      ]
     },
     "execution_count": 28,
     "metadata": {},
     "output_type": "execute_result"
    }
   ],
   "source": [
    "data1"
   ]
  },
  {
   "cell_type": "code",
   "execution_count": 30,
   "id": "1268a88a",
   "metadata": {},
   "outputs": [
    {
     "data": {
      "image/png": "[encoded data removed]",
      "text/plain": [
       "<Figure size 432x288 with 1 Axes>"
      ]
     },
     "metadata": {
      "needs_background": "light"
     },
     "output_type": "display_data"
    }
   ],
   "source": [
    "plot_acf(data1)\n",
    "plt.show()"
   ]
  },
  {
   "cell_type": "markdown",
   "id": "1e51e164",
   "metadata": {},
   "source": [
    "* Not become a statinory"
   ]
  },
  {
   "cell_type": "code",
   "execution_count": 31,
   "id": "4affe87d",
   "metadata": {},
   "outputs": [],
   "source": [
    "data2 = data1.diff(periods=1)  ## used 2nd time"
   ]
  },
  {
   "cell_type": "code",
   "execution_count": 32,
   "id": "9146dafc",
   "metadata": {},
   "outputs": [
    {
     "data": {
      "text/html": [
       "<div>\n",
       "<style scoped>\n",
       "    .dataframe tbody tr th:only-of-type {\n",
       "        vertical-align: middle;\n",
       "    }\n",
       "\n",
       "    .dataframe tbody tr th {\n",
       "        vertical-align: top;\n",
       "    }\n",
       "\n",
       "    .dataframe thead th {\n",
       "        text-align: right;\n",
       "    }\n",
       "</style>\n",
       "<table border=\"1\" class=\"dataframe\">\n",
       "  <thead>\n",
       "    <tr style=\"text-align: right;\">\n",
       "      <th></th>\n",
       "      <th>#Passengers</th>\n",
       "    </tr>\n",
       "    <tr>\n",
       "      <th>Month</th>\n",
       "      <th></th>\n",
       "    </tr>\n",
       "  </thead>\n",
       "  <tbody>\n",
       "    <tr>\n",
       "      <th>1949-02-01</th>\n",
       "      <td>NaN</td>\n",
       "    </tr>\n",
       "    <tr>\n",
       "      <th>1949-03-01</th>\n",
       "      <td>8.0</td>\n",
       "    </tr>\n",
       "    <tr>\n",
       "      <th>1949-04-01</th>\n",
       "      <td>-17.0</td>\n",
       "    </tr>\n",
       "    <tr>\n",
       "      <th>1949-05-01</th>\n",
       "      <td>-5.0</td>\n",
       "    </tr>\n",
       "    <tr>\n",
       "      <th>1949-06-01</th>\n",
       "      <td>22.0</td>\n",
       "    </tr>\n",
       "    <tr>\n",
       "      <th>...</th>\n",
       "      <td>...</td>\n",
       "    </tr>\n",
       "    <tr>\n",
       "      <th>1960-08-01</th>\n",
       "      <td>-103.0</td>\n",
       "    </tr>\n",
       "    <tr>\n",
       "      <th>1960-09-01</th>\n",
       "      <td>-82.0</td>\n",
       "    </tr>\n",
       "    <tr>\n",
       "      <th>1960-10-01</th>\n",
       "      <td>51.0</td>\n",
       "    </tr>\n",
       "    <tr>\n",
       "      <th>1960-11-01</th>\n",
       "      <td>-24.0</td>\n",
       "    </tr>\n",
       "    <tr>\n",
       "      <th>1960-12-01</th>\n",
       "      <td>113.0</td>\n",
       "    </tr>\n",
       "  </tbody>\n",
       "</table>\n",
       "<p>143 rows × 1 columns</p>\n",
       "</div>"
      ],
      "text/plain": [
       "            #Passengers\n",
       "Month                  \n",
       "1949-02-01          NaN\n",
       "1949-03-01          8.0\n",
       "1949-04-01        -17.0\n",
       "1949-05-01         -5.0\n",
       "1949-06-01         22.0\n",
       "...                 ...\n",
       "1960-08-01       -103.0\n",
       "1960-09-01        -82.0\n",
       "1960-10-01         51.0\n",
       "1960-11-01        -24.0\n",
       "1960-12-01        113.0\n",
       "\n",
       "[143 rows x 1 columns]"
      ]
     },
     "execution_count": 32,
     "metadata": {},
     "output_type": "execute_result"
    }
   ],
   "source": [
    "data2"
   ]
  },
  {
   "cell_type": "code",
   "execution_count": 35,
   "id": "f6d95adb",
   "metadata": {},
   "outputs": [],
   "source": [
    "## making new veriable to store data2\n",
    "data3 = data2.iloc[1:]"
   ]
  },
  {
   "cell_type": "code",
   "execution_count": 37,
   "id": "75564cfe",
   "metadata": {},
   "outputs": [
    {
     "data": {
      "image/png": "[encoded data removed]",
      "text/plain": [
       "<Figure size 432x288 with 1 Axes>"
      ]
     },
     "metadata": {
      "needs_background": "light"
     },
     "output_type": "display_data"
    }
   ],
   "source": [
    "plot_acf(data3)\n",
    "plt.show()"
   ]
  },
  {
   "cell_type": "markdown",
   "id": "c2ccae68",
   "metadata": {},
   "source": [
    "* Now the series become a stationary"
   ]
  },
  {
   "cell_type": "markdown",
   "id": "32693a75",
   "metadata": {},
   "source": [
    "### Create training and testing data"
   ]
  },
  {
   "cell_type": "code",
   "execution_count": 38,
   "id": "e835cf53",
   "metadata": {},
   "outputs": [
    {
     "data": {
      "text/plain": [
       "(142, 1)"
      ]
     },
     "execution_count": 38,
     "metadata": {},
     "output_type": "execute_result"
    }
   ],
   "source": [
    "data3.shape"
   ]
  },
  {
   "cell_type": "code",
   "execution_count": 39,
   "id": "534365ea",
   "metadata": {},
   "outputs": [],
   "source": [
    "train = data3[:100]  # from 0th rows to 100 rows for training\n",
    "test = data3[100:] ## from 100 above remaing rows for testing"
   ]
  },
  {
   "cell_type": "code",
   "execution_count": 40,
   "id": "d801d6f1",
   "metadata": {},
   "outputs": [
    {
     "data": {
      "text/plain": [
       "(42, 1)"
      ]
     },
     "execution_count": 40,
     "metadata": {},
     "output_type": "execute_result"
    }
   ],
   "source": [
    "test.shape"
   ]
  },
  {
   "cell_type": "code",
   "execution_count": 41,
   "id": "23a0b824",
   "metadata": {},
   "outputs": [
    {
     "data": {
      "text/plain": [
       "(100, 1)"
      ]
     },
     "execution_count": 41,
     "metadata": {},
     "output_type": "execute_result"
    }
   ],
   "source": [
    "train.shape"
   ]
  },
  {
   "cell_type": "code",
   "execution_count": 42,
   "id": "b80483e5",
   "metadata": {
    "scrolled": true
   },
   "outputs": [
    {
     "name": "stdout",
     "output_type": "stream",
     "text": [
      "<class 'pandas.core.frame.DataFrame'>\n",
      "DatetimeIndex: 100 entries, 1949-03-01 to 1957-06-01\n",
      "Data columns (total 1 columns):\n",
      " #   Column       Non-Null Count  Dtype  \n",
      "---  ------       --------------  -----  \n",
      " 0   #Passengers  100 non-null    float64\n",
      "dtypes: float64(1)\n",
      "memory usage: 1.6 KB\n"
     ]
    }
   ],
   "source": [
    "## information about data-type and null values\n",
    "train.info()"
   ]
  },
  {
   "cell_type": "markdown",
   "id": "a2c08807",
   "metadata": {},
   "source": [
    "### Apply auto regressive model"
   ]
  },
  {
   "cell_type": "code",
   "execution_count": 43,
   "id": "ec5be156",
   "metadata": {},
   "outputs": [],
   "source": [
    "from statsmodels.tsa.ar_model import AR"
   ]
  },
  {
   "cell_type": "code",
   "execution_count": 45,
   "id": "f1f38cbd",
   "metadata": {},
   "outputs": [],
   "source": [
    "## Model creation\n",
    "ar_model = AR(train)  ## creating object and passing training data\n",
    "ar_model_fit = ar_model.fit()  # training model"
   ]
  },
  {
   "cell_type": "code",
   "execution_count": 46,
   "id": "1b895cb4",
   "metadata": {},
   "outputs": [],
   "source": [
    "## prediction on model\n",
    "predict = ar_model_fit.predict(start = 100, end=143) "
   ]
  },
  {
   "cell_type": "code",
   "execution_count": 47,
   "id": "ccd5bf63",
   "metadata": {
    "collapsed": true
   },
   "outputs": [
    {
     "data": {
      "text/plain": [
       "1957-07-01   -26.325761\n",
       "1957-08-01   -51.184110\n",
       "1957-09-01   -43.959992\n",
       "1957-10-01    -6.363909\n",
       "1957-11-01    24.061033\n",
       "1957-12-01    75.324375\n",
       "1958-01-01   -30.525575\n",
       "1958-02-01   -20.698153\n",
       "1958-03-01    67.089284\n",
       "1958-04-01   -56.564573\n",
       "1958-05-01    13.377346\n",
       "1958-06-01    66.337091\n",
       "1958-07-01   -33.772981\n",
       "1958-08-01   -58.228155\n",
       "1958-09-01   -45.055018\n",
       "1958-10-01   -14.690154\n",
       "1958-11-01    35.370293\n",
       "1958-12-01    80.696719\n",
       "1959-01-01   -34.541873\n",
       "1959-02-01   -19.600193\n",
       "1959-03-01    67.142411\n",
       "1959-04-01   -51.386197\n",
       "1959-05-01    14.330762\n",
       "1959-06-01    71.079740\n",
       "1959-07-01   -41.567386\n",
       "1959-08-01   -66.313619\n",
       "1959-09-01   -47.008369\n",
       "1959-10-01   -22.589679\n",
       "1959-11-01    46.865050\n",
       "1959-12-01    87.112502\n",
       "1960-01-01   -38.965689\n",
       "1960-02-01   -18.788673\n",
       "1960-03-01    68.371352\n",
       "1960-04-01   -46.488704\n",
       "1960-05-01    17.168608\n",
       "1960-06-01    74.840922\n",
       "1960-07-01   -50.438749\n",
       "1960-08-01   -75.197337\n",
       "1960-09-01   -50.102526\n",
       "1960-10-01   -29.954777\n",
       "1960-11-01    58.602494\n",
       "1960-12-01    94.599063\n",
       "1961-01-01   -43.873104\n",
       "1961-02-01   -18.074106\n",
       "Freq: MS, dtype: float64"
      ]
     },
     "execution_count": 47,
     "metadata": {},
     "output_type": "execute_result"
    }
   ],
   "source": [
    "predict"
   ]
  },
  {
   "cell_type": "code",
   "execution_count": 54,
   "id": "3e2b07cf",
   "metadata": {},
   "outputs": [
    {
     "data": {
      "image/png": "[encoded data removed]",
      "text/plain": [
       "<Figure size 576x432 with 1 Axes>"
      ]
     },
     "metadata": {
      "needs_background": "light"
     },
     "output_type": "display_data"
    }
   ],
   "source": [
    "plt.figure(figsize=(8,6))\n",
    "plt.plot(test)\n",
    "plt.plot(predict,color='green')\n",
    "plt.show()\n",
    "#graph of test vs prediction  ## green one will be prediction"
   ]
  },
  {
   "cell_type": "markdown",
   "id": "9b021f44",
   "metadata": {},
   "source": [
    "### Dontuse upper model"
   ]
  },
  {
   "cell_type": "markdown",
   "id": "0a9b02f5",
   "metadata": {},
   "source": [
    "## ARIMA Model(Use this)"
   ]
  },
  {
   "cell_type": "code",
   "execution_count": 55,
   "id": "ba4c2ba7",
   "metadata": {},
   "outputs": [],
   "source": [
    "## importing library\n",
    "from statsmodels.tsa.arima.model import ARIMA"
   ]
  },
  {
   "cell_type": "code",
   "execution_count": 56,
   "id": "52dce6e6",
   "metadata": {},
   "outputs": [],
   "source": [
    "### traing and testing data created upper model no need to create double"
   ]
  },
  {
   "cell_type": "code",
   "execution_count": 57,
   "id": "ed544b6a",
   "metadata": {},
   "outputs": [
    {
     "data": {
      "text/plain": [
       "(100, 1)"
      ]
     },
     "execution_count": 57,
     "metadata": {},
     "output_type": "execute_result"
    }
   ],
   "source": [
    "train.shape"
   ]
  },
  {
   "cell_type": "code",
   "execution_count": 58,
   "id": "20de38d4",
   "metadata": {},
   "outputs": [
    {
     "data": {
      "text/plain": [
       "(42, 1)"
      ]
     },
     "execution_count": 58,
     "metadata": {},
     "output_type": "execute_result"
    }
   ],
   "source": [
    "test.shape"
   ]
  },
  {
   "cell_type": "code",
   "execution_count": 59,
   "id": "ca70651c",
   "metadata": {},
   "outputs": [],
   "source": [
    "### Model object creation and fitting the model\n",
    "model_arima = ARIMA(train, order=(1,1,0))  ## order p,d,q   \n",
    "# p--> auto regressive\n",
    "# q--> moving average\n",
    "# d --> difference(intermidiate)\n",
    "model_arima_fit = model_arima.fit()  # trainig"
   ]
  },
  {
   "cell_type": "markdown",
   "id": "f439c98e",
   "metadata": {},
   "source": [
    "### model Evaluation"
   ]
  },
  {
   "cell_type": "code",
   "execution_count": 62,
   "id": "c3d68df5",
   "metadata": {},
   "outputs": [
    {
     "name": "stdout",
     "output_type": "stream",
     "text": [
      "1021.0396389673776\n"
     ]
    }
   ],
   "source": [
    "print(model_arima_fit.aic)   ## it should be less"
   ]
  },
  {
   "cell_type": "code",
   "execution_count": 63,
   "id": "5b0e0bde",
   "metadata": {},
   "outputs": [],
   "source": [
    "## predicting out of sample points\n",
    "forcecasting = model_arima_fit.forecast(steps = 9)\n",
    "## forcast done unseen data"
   ]
  },
  {
   "cell_type": "code",
   "execution_count": 64,
   "id": "0bffb4ed",
   "metadata": {},
   "outputs": [
    {
     "data": {
      "text/plain": [
       "1957-07-01    37.765356\n",
       "1957-08-01    48.751565\n",
       "1957-09-01    43.323244\n",
       "1957-10-01    46.005395\n",
       "1957-11-01    44.680135\n",
       "1957-12-01    45.334950\n",
       "1958-01-01    45.011404\n",
       "1958-02-01    45.171269\n",
       "1958-03-01    45.092279\n",
       "Freq: MS, Name: predicted_mean, dtype: float64"
      ]
     },
     "execution_count": 64,
     "metadata": {},
     "output_type": "execute_result"
    }
   ],
   "source": [
    "forcecasting"
   ]
  },
  {
   "cell_type": "code",
   "execution_count": 66,
   "id": "47a53d02",
   "metadata": {},
   "outputs": [
    {
     "data": {
      "image/png": "[encoded data removed]",
      "text/plain": [
       "<Figure size 432x288 with 1 Axes>"
      ]
     },
     "metadata": {
      "needs_background": "light"
     },
     "output_type": "display_data"
    }
   ],
   "source": [
    "### ploting the forcated value\n",
    "forcecasting.plot(color='green')\n",
    "plt.show()"
   ]
  },
  {
   "cell_type": "markdown",
   "id": "76ce10d1",
   "metadata": {},
   "source": [
    "### Tuning "
   ]
  },
  {
   "cell_type": "code",
   "execution_count": 68,
   "id": "a0751441",
   "metadata": {},
   "outputs": [
    {
     "data": {
      "text/plain": [
       "[(0, 0, 0),\n",
       " (0, 0, 1),\n",
       " (0, 1, 0),\n",
       " (0, 1, 1),\n",
       " (1, 0, 0),\n",
       " (1, 0, 1),\n",
       " (1, 1, 0),\n",
       " (1, 1, 1)]"
      ]
     },
     "execution_count": 68,
     "metadata": {},
     "output_type": "execute_result"
    }
   ],
   "source": [
    "### Getting the optimal values of p,q,d\n",
    "import itertools ## used for itretion\n",
    "p = d = q =range(0,2)  #becaues of samll data\n",
    "## if we have lard data then range are increase\n",
    "pdq = list(itertools.product(p,d,q))  ## used for cartition product to given opretion\n",
    "pdq"
   ]
  },
  {
   "cell_type": "code",
   "execution_count": 73,
   "id": "29c2c292",
   "metadata": {},
   "outputs": [
    {
     "name": "stdout",
     "output_type": "stream",
     "text": [
      "(0, 0, 0) 967.913551830937\n",
      "(0, 0, 1) 931.4372805505137\n",
      "(0, 1, 0) 1046.7319001420174\n",
      "(0, 1, 1) 963.8739393255743\n",
      "(1, 0, 0) 963.0127961447531\n",
      "(1, 0, 1) 928.7077561684616\n",
      "(1, 1, 0) 1021.0396389673776\n",
      "(1, 1, 1) 959.4979676508102\n"
     ]
    }
   ],
   "source": [
    "##The Python try… except statement catches an exception. It is used to test code for an error which is written in the “try” statement.\n",
    "#If an error is encountered, the contents of the “except” block are run.\n",
    "for params in pdq:\n",
    "    try:\n",
    "        model_arima_1 = ARIMA(train,order=params,)  # training model on various pdq values\n",
    "        model_arima_fit_1 = model_arima_1.fit()## training\n",
    "        print(params,model_arima_fit_1.aic)  # printing parameter with aic value\n",
    "    except:\n",
    "        continue"
   ]
  },
  {
   "cell_type": "markdown",
   "id": "00f849a6",
   "metadata": {},
   "source": [
    "* taking the lowest aic valu parameter"
   ]
  },
  {
   "cell_type": "code",
   "execution_count": 74,
   "id": "7e9ebc83",
   "metadata": {},
   "outputs": [],
   "source": [
    "### create final model with lowest aic parameter\n",
    "model_arima_4 = ARIMA(train,order=(1,0,1))\n",
    "\n",
    "model_arima_fit_4 = model_arima_4.fit() ## training"
   ]
  },
  {
   "cell_type": "code",
   "execution_count": 75,
   "id": "2be8f0e1",
   "metadata": {},
   "outputs": [
    {
     "name": "stdout",
     "output_type": "stream",
     "text": [
      "928.7077561684616\n"
     ]
    }
   ],
   "source": [
    "print(model_arima_fit_4.aic)  ## aic score"
   ]
  },
  {
   "cell_type": "code",
   "execution_count": 79,
   "id": "d613e8f0",
   "metadata": {},
   "outputs": [
    {
     "data": {
      "text/plain": [
       "1957-07-01    37.765356\n",
       "1957-08-01    48.751565\n",
       "1957-09-01    43.323244\n",
       "1957-10-01    46.005395\n",
       "1957-11-01    44.680135\n",
       "1957-12-01    45.334950\n",
       "1958-01-01    45.011404\n",
       "1958-02-01    45.171269\n",
       "1958-03-01    45.092279\n",
       "Freq: MS, Name: predicted_mean, dtype: float64"
      ]
     },
     "execution_count": 79,
     "metadata": {},
     "output_type": "execute_result"
    }
   ],
   "source": [
    "forcast1 = model_arima_fit.forecast(steps=9)\n",
    "forcast1"
   ]
  },
  {
   "cell_type": "code",
   "execution_count": 81,
   "id": "26652211",
   "metadata": {},
   "outputs": [
    {
     "data": {
      "image/png": "[encoded data removed]",
      "text/plain": [
       "<Figure size 432x288 with 1 Axes>"
      ]
     },
     "metadata": {
      "needs_background": "light"
     },
     "output_type": "display_data"
    }
   ],
   "source": [
    "forcast1.plot(color='green')\n",
    "plt.show()"
   ]
  },
  {
   "cell_type": "code",
   "execution_count": null,
   "id": "efba8c61",
   "metadata": {},
   "outputs": [],
   "source": []
  }
 ],
 "metadata": {
  "kernelspec": {
   "display_name": "Python 3 (ipykernel)",
   "language": "python",
   "name": "python3"
  },
  "language_info": {
   "codemirror_mode": {
    "name": "ipython",
    "version": 3
   },
   "file_extension": ".py",
   "mimetype": "text/x-python",
   "name": "python",
   "nbconvert_exporter": "python",
   "pygments_lexer": "ipython3",
   "version": "3.9.7"
  }
 },
 "nbformat": 4,
 "nbformat_minor": 5
}
